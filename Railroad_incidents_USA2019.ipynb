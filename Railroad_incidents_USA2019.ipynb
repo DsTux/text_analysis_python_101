{
 "cells": [
  {
   "cell_type": "markdown",
   "metadata": {},
   "source": [
    "# Railroad Incident Text Analysis\n",
    "\n",
    "This is a notebook to demonstrate how to analyse text using Python. This notebook is meant for people who usually use Excel to anaylse data that mainly consists of text. Some basic Python knowledge is necessary.\n",
    "\n",
    "The initial motivation for this notebook was to demonstrate to someone who is analysing railraod incidents in Britain (when rail tracks were tresspassed). I could not find a similar public dataset, however, found one which describes railroad incidents in the USA for 2019 - data source: https://safetydata.fra.dot.gov/OfficeofSafety/publicsite/on_the_fly_download.aspx\n",
    "\n",
    "Those incidents are of different nature - they describe derailment, whether a train got struck, and other incidents that caused damages and potential hazardous materials to be released. Because I am only interested in the incident text, I deleted most columns in the dataset and only left Railroad, State, Station, County and Narrative (incident text).\n",
    "\n",
    "I am walking through my usual steps of data exploration when I am dealing with a dataset I have never seen before and then set myself some tasks to demonstrate you how to deal with text data in Python"
   ]
  },
  {
   "cell_type": "code",
   "execution_count": 1,
   "metadata": {},
   "outputs": [],
   "source": [
    "import pandas as pd\n",
    "import warnings\n",
    "warnings.filterwarnings('ignore')"
   ]
  },
  {
   "cell_type": "markdown",
   "metadata": {},
   "source": [
    "## Reading in the Data using Pandas\n",
    "\n",
    "pandas is a Python library for data manipulation and analysis. In particular, it offers data structures and operations for manipulating numerical tables and time series."
   ]
  },
  {
   "cell_type": "code",
   "execution_count": 2,
   "metadata": {},
   "outputs": [],
   "source": [
    "raw_data_df_ = pd.read_csv(\"rail_incident_data_USA.csv\")"
   ]
  },
  {
   "cell_type": "markdown",
   "metadata": {},
   "source": [
    "Ok - we encounter our first problem. While exporting the data from the website, the incident text got divided into many separate columns. We want the text to be in one column only and therefore need to merge those 15 columns into one"
   ]
  },
  {
   "cell_type": "code",
   "execution_count": 3,
   "metadata": {},
   "outputs": [
    {
     "data": {
      "text/html": [
       "<div>\n",
       "<style scoped>\n",
       "    .dataframe tbody tr th:only-of-type {\n",
       "        vertical-align: middle;\n",
       "    }\n",
       "\n",
       "    .dataframe tbody tr th {\n",
       "        vertical-align: top;\n",
       "    }\n",
       "\n",
       "    .dataframe thead th {\n",
       "        text-align: right;\n",
       "    }\n",
       "</style>\n",
       "<table border=\"1\" class=\"dataframe\">\n",
       "  <thead>\n",
       "    <tr style=\"text-align: right;\">\n",
       "      <th></th>\n",
       "      <th>IYR</th>\n",
       "      <th>IMO</th>\n",
       "      <th>RAILROAD</th>\n",
       "      <th>STATE</th>\n",
       "      <th>STATION</th>\n",
       "      <th>COUNTY</th>\n",
       "      <th>NARR1</th>\n",
       "      <th>NARR2</th>\n",
       "      <th>NARR3</th>\n",
       "      <th>NARR4</th>\n",
       "      <th>...</th>\n",
       "      <th>NARR6</th>\n",
       "      <th>NARR7</th>\n",
       "      <th>NARR8</th>\n",
       "      <th>NARR9</th>\n",
       "      <th>NARR10</th>\n",
       "      <th>NARR11</th>\n",
       "      <th>NARR12</th>\n",
       "      <th>NARR13</th>\n",
       "      <th>NARR14</th>\n",
       "      <th>NARR15</th>\n",
       "    </tr>\n",
       "  </thead>\n",
       "  <tbody>\n",
       "    <tr>\n",
       "      <th>0</th>\n",
       "      <td>19</td>\n",
       "      <td>11</td>\n",
       "      <td>ATK</td>\n",
       "      <td>6</td>\n",
       "      <td>CASTROVILLE</td>\n",
       "      <td>MONTEREY</td>\n",
       "      <td>CAMERA-EQUIPPED TRAIN 14 STRUCK AN OCCUPIED SA...</td>\n",
       "      <td>HE OCCUPANT OF THE VEHICLE WAS A CONFIRMED FAT...</td>\n",
       "      <td>NaN</td>\n",
       "      <td>NaN</td>\n",
       "      <td>...</td>\n",
       "      <td>NaN</td>\n",
       "      <td>NaN</td>\n",
       "      <td>NaN</td>\n",
       "      <td>NaN</td>\n",
       "      <td>NaN</td>\n",
       "      <td>NaN</td>\n",
       "      <td>NaN</td>\n",
       "      <td>NaN</td>\n",
       "      <td>NaN</td>\n",
       "      <td>NaN</td>\n",
       "    </tr>\n",
       "    <tr>\n",
       "      <th>1</th>\n",
       "      <td>19</td>\n",
       "      <td>10</td>\n",
       "      <td>MNCW</td>\n",
       "      <td>9</td>\n",
       "      <td>NORWALK</td>\n",
       "      <td>FAIRFIELD</td>\n",
       "      <td>PRODUCTION GANG, TRAVELING NORTH WITH 22 PIECE...</td>\n",
       "      <td>E IMPACT WITH ONE ANOTHER.</td>\n",
       "      <td>NaN</td>\n",
       "      <td>NaN</td>\n",
       "      <td>...</td>\n",
       "      <td>NaN</td>\n",
       "      <td>NaN</td>\n",
       "      <td>NaN</td>\n",
       "      <td>NaN</td>\n",
       "      <td>NaN</td>\n",
       "      <td>NaN</td>\n",
       "      <td>NaN</td>\n",
       "      <td>NaN</td>\n",
       "      <td>NaN</td>\n",
       "      <td>NaN</td>\n",
       "    </tr>\n",
       "    <tr>\n",
       "      <th>2</th>\n",
       "      <td>19</td>\n",
       "      <td>4</td>\n",
       "      <td>FEC</td>\n",
       "      <td>12</td>\n",
       "      <td>POMPANO BEACH</td>\n",
       "      <td>BROWARD</td>\n",
       "      <td>BLF 604 WAS TRAVELING SOUTHBOUND ON EAST MAIN ...</td>\n",
       "      <td>G ACROSS THE TRACKS WITH HIS BIKE FROM THE WES...</td>\n",
       "      <td>LOCOMOTIVE ENGINEER SOUNDED HORN AND BELL TO W...</td>\n",
       "      <td>ASSER WAS STRUCK RESULTING IN A FATALITY.  BLF...</td>\n",
       "      <td>...</td>\n",
       "      <td>NaN</td>\n",
       "      <td>NaN</td>\n",
       "      <td>NaN</td>\n",
       "      <td>NaN</td>\n",
       "      <td>NaN</td>\n",
       "      <td>NaN</td>\n",
       "      <td>NaN</td>\n",
       "      <td>NaN</td>\n",
       "      <td>NaN</td>\n",
       "      <td>NaN</td>\n",
       "    </tr>\n",
       "    <tr>\n",
       "      <th>3</th>\n",
       "      <td>19</td>\n",
       "      <td>4</td>\n",
       "      <td>FEC</td>\n",
       "      <td>12</td>\n",
       "      <td>POMPANO BEACH</td>\n",
       "      <td>BROWARD</td>\n",
       "      <td>BLF 606 WAS TRAVELING SOUTHBOUND ON EAST MAIN ...</td>\n",
       "      <td>MOTIVE ENGINEER SOUNDED HORN AND BELL AND PLAC...</td>\n",
       "      <td>NGERS IN VEHICLE WERE TRANSPORTED TO LOCAL HOS...</td>\n",
       "      <td>NaN</td>\n",
       "      <td>...</td>\n",
       "      <td>NaN</td>\n",
       "      <td>NaN</td>\n",
       "      <td>NaN</td>\n",
       "      <td>NaN</td>\n",
       "      <td>NaN</td>\n",
       "      <td>NaN</td>\n",
       "      <td>NaN</td>\n",
       "      <td>NaN</td>\n",
       "      <td>NaN</td>\n",
       "      <td>NaN</td>\n",
       "    </tr>\n",
       "    <tr>\n",
       "      <th>4</th>\n",
       "      <td>19</td>\n",
       "      <td>4</td>\n",
       "      <td>CSX</td>\n",
       "      <td>12</td>\n",
       "      <td>SEVILLE</td>\n",
       "      <td>VOLUSIA</td>\n",
       "      <td>AMTRAK P09811 STRUCK SEMI AT PRIVATE CROSSING.</td>\n",
       "      <td>NaN</td>\n",
       "      <td>NaN</td>\n",
       "      <td>NaN</td>\n",
       "      <td>...</td>\n",
       "      <td>NaN</td>\n",
       "      <td>NaN</td>\n",
       "      <td>NaN</td>\n",
       "      <td>NaN</td>\n",
       "      <td>NaN</td>\n",
       "      <td>NaN</td>\n",
       "      <td>NaN</td>\n",
       "      <td>NaN</td>\n",
       "      <td>NaN</td>\n",
       "      <td>NaN</td>\n",
       "    </tr>\n",
       "  </tbody>\n",
       "</table>\n",
       "<p>5 rows × 21 columns</p>\n",
       "</div>"
      ],
      "text/plain": [
       "   IYR  IMO RAILROAD  STATE        STATION     COUNTY  \\\n",
       "0   19   11      ATK      6    CASTROVILLE   MONTEREY   \n",
       "1   19   10     MNCW      9        NORWALK  FAIRFIELD   \n",
       "2   19    4      FEC     12  POMPANO BEACH    BROWARD   \n",
       "3   19    4      FEC     12  POMPANO BEACH    BROWARD   \n",
       "4   19    4      CSX     12        SEVILLE    VOLUSIA   \n",
       "\n",
       "                                               NARR1  \\\n",
       "0  CAMERA-EQUIPPED TRAIN 14 STRUCK AN OCCUPIED SA...   \n",
       "1  PRODUCTION GANG, TRAVELING NORTH WITH 22 PIECE...   \n",
       "2  BLF 604 WAS TRAVELING SOUTHBOUND ON EAST MAIN ...   \n",
       "3  BLF 606 WAS TRAVELING SOUTHBOUND ON EAST MAIN ...   \n",
       "4     AMTRAK P09811 STRUCK SEMI AT PRIVATE CROSSING.   \n",
       "\n",
       "                                               NARR2  \\\n",
       "0  HE OCCUPANT OF THE VEHICLE WAS A CONFIRMED FAT...   \n",
       "1                         E IMPACT WITH ONE ANOTHER.   \n",
       "2  G ACROSS THE TRACKS WITH HIS BIKE FROM THE WES...   \n",
       "3  MOTIVE ENGINEER SOUNDED HORN AND BELL AND PLAC...   \n",
       "4                                                NaN   \n",
       "\n",
       "                                               NARR3  \\\n",
       "0                                                NaN   \n",
       "1                                                NaN   \n",
       "2  LOCOMOTIVE ENGINEER SOUNDED HORN AND BELL TO W...   \n",
       "3  NGERS IN VEHICLE WERE TRANSPORTED TO LOCAL HOS...   \n",
       "4                                                NaN   \n",
       "\n",
       "                                               NARR4  ... NARR6 NARR7 NARR8  \\\n",
       "0                                                NaN  ...   NaN   NaN   NaN   \n",
       "1                                                NaN  ...   NaN   NaN   NaN   \n",
       "2  ASSER WAS STRUCK RESULTING IN A FATALITY.  BLF...  ...   NaN   NaN   NaN   \n",
       "3                                                NaN  ...   NaN   NaN   NaN   \n",
       "4                                                NaN  ...   NaN   NaN   NaN   \n",
       "\n",
       "  NARR9 NARR10 NARR11 NARR12 NARR13 NARR14 NARR15  \n",
       "0   NaN    NaN    NaN    NaN    NaN    NaN    NaN  \n",
       "1   NaN    NaN    NaN    NaN    NaN    NaN    NaN  \n",
       "2   NaN    NaN    NaN    NaN    NaN    NaN    NaN  \n",
       "3   NaN    NaN    NaN    NaN    NaN    NaN    NaN  \n",
       "4   NaN    NaN    NaN    NaN    NaN    NaN    NaN  \n",
       "\n",
       "[5 rows x 21 columns]"
      ]
     },
     "execution_count": 3,
     "metadata": {},
     "output_type": "execute_result"
    }
   ],
   "source": [
    "raw_data_df_.head()"
   ]
  },
  {
   "cell_type": "markdown",
   "metadata": {},
   "source": [
    "## Removing Duplicates\n",
    "\n",
    "Before I merge the NARR columns, let's check whether there are any duplicates in the data and get rid of them. Pandas has an in-built duplicated() method which we can use for that"
   ]
  },
  {
   "cell_type": "code",
   "execution_count": 4,
   "metadata": {},
   "outputs": [],
   "source": [
    "#creating a new column in the dataframe that stores a boolean value whether that row is a duplicate or not\n",
    "raw_data_df_['dup'] = raw_data_df_.duplicated(subset=None, keep='first')"
   ]
  },
  {
   "cell_type": "code",
   "execution_count": 5,
   "metadata": {},
   "outputs": [
    {
     "data": {
      "text/plain": [
       "False    2401\n",
       "True      284\n",
       "Name: dup, dtype: int64"
      ]
     },
     "execution_count": 5,
     "metadata": {},
     "output_type": "execute_result"
    }
   ],
   "source": [
    "#checking how many duplicates there were by counding the True and False values in that column\n",
    "raw_data_df_['dup'].value_counts()"
   ]
  },
  {
   "cell_type": "markdown",
   "metadata": {},
   "source": [
    "There are quite a few duplicates. About 10% of the dataset are duplicates. Let's delete them"
   ]
  },
  {
   "cell_type": "code",
   "execution_count": 6,
   "metadata": {},
   "outputs": [],
   "source": [
    "# let's write the data into a new dataframe, only keeping the lines where the value for \"dup\" is False\n",
    "raw_data_df = raw_data_df_[raw_data_df_['dup'] == False]"
   ]
  },
  {
   "cell_type": "code",
   "execution_count": 7,
   "metadata": {},
   "outputs": [],
   "source": [
    "del raw_data_df['dup'] # deleting \"dup\" column since we don't need ot anymore"
   ]
  },
  {
   "cell_type": "markdown",
   "metadata": {},
   "source": [
    "## Merging incident text into one column"
   ]
  },
  {
   "cell_type": "markdown",
   "metadata": {},
   "source": [
    "### List slicing and lambda functions in python\n",
    "Ok, a lot is going on in the function below but let's break it down\n",
    "1. we are creating a new column (NARR) which will contain the whole narrative of the incident text\n",
    "2. we select all columns starting from columns 7 (NARR1) until the end. That's what [6:] is going: starting from column 6 (column 0 being the first) select all the columns until the end. If we wanted to merge only NARR1 and NARR2, we would write [6:8]. In python the ending column is not included so we would select only columns 6 and 7\n",
    "3. we are applying a lambda function to selected cell (x). A lambda function is a small anonymous function and comes handy when we are doing an operation only once and do not need to define a separate function for it\n",
    "4. the function iterates through each cell in the row starting at position 5 and joins it with the subsequent cells as a type string. If there cell is empty we ignore it (dropna()). The reason why we are expresively defining that the cell should be of type string is because some entries might not have an incident text (all NANs) and would be picked up by python as a float type\n",
    "5. the function goes through each row in the dataframe and does the merging described in 4."
   ]
  },
  {
   "cell_type": "code",
   "execution_count": 8,
   "metadata": {},
   "outputs": [],
   "source": [
    "\n",
    "raw_data_df['NARR'] = raw_data_df[raw_data_df.columns[6:]].apply(\n",
    "    lambda x: ' '.join(x.dropna().astype(str)),\n",
    "    axis=1\n",
    ")\n",
    "\n"
   ]
  },
  {
   "cell_type": "code",
   "execution_count": 9,
   "metadata": {},
   "outputs": [
    {
     "data": {
      "text/html": [
       "<div>\n",
       "<style scoped>\n",
       "    .dataframe tbody tr th:only-of-type {\n",
       "        vertical-align: middle;\n",
       "    }\n",
       "\n",
       "    .dataframe tbody tr th {\n",
       "        vertical-align: top;\n",
       "    }\n",
       "\n",
       "    .dataframe thead th {\n",
       "        text-align: right;\n",
       "    }\n",
       "</style>\n",
       "<table border=\"1\" class=\"dataframe\">\n",
       "  <thead>\n",
       "    <tr style=\"text-align: right;\">\n",
       "      <th></th>\n",
       "      <th>IYR</th>\n",
       "      <th>IMO</th>\n",
       "      <th>RAILROAD</th>\n",
       "      <th>STATE</th>\n",
       "      <th>STATION</th>\n",
       "      <th>COUNTY</th>\n",
       "      <th>NARR1</th>\n",
       "      <th>NARR2</th>\n",
       "      <th>NARR3</th>\n",
       "      <th>NARR4</th>\n",
       "      <th>...</th>\n",
       "      <th>NARR7</th>\n",
       "      <th>NARR8</th>\n",
       "      <th>NARR9</th>\n",
       "      <th>NARR10</th>\n",
       "      <th>NARR11</th>\n",
       "      <th>NARR12</th>\n",
       "      <th>NARR13</th>\n",
       "      <th>NARR14</th>\n",
       "      <th>NARR15</th>\n",
       "      <th>NARR</th>\n",
       "    </tr>\n",
       "  </thead>\n",
       "  <tbody>\n",
       "    <tr>\n",
       "      <th>0</th>\n",
       "      <td>19</td>\n",
       "      <td>11</td>\n",
       "      <td>ATK</td>\n",
       "      <td>6</td>\n",
       "      <td>CASTROVILLE</td>\n",
       "      <td>MONTEREY</td>\n",
       "      <td>CAMERA-EQUIPPED TRAIN 14 STRUCK AN OCCUPIED SA...</td>\n",
       "      <td>HE OCCUPANT OF THE VEHICLE WAS A CONFIRMED FAT...</td>\n",
       "      <td>NaN</td>\n",
       "      <td>NaN</td>\n",
       "      <td>...</td>\n",
       "      <td>NaN</td>\n",
       "      <td>NaN</td>\n",
       "      <td>NaN</td>\n",
       "      <td>NaN</td>\n",
       "      <td>NaN</td>\n",
       "      <td>NaN</td>\n",
       "      <td>NaN</td>\n",
       "      <td>NaN</td>\n",
       "      <td>NaN</td>\n",
       "      <td>CAMERA-EQUIPPED TRAIN 14 STRUCK AN OCCUPIED SA...</td>\n",
       "    </tr>\n",
       "    <tr>\n",
       "      <th>1</th>\n",
       "      <td>19</td>\n",
       "      <td>10</td>\n",
       "      <td>MNCW</td>\n",
       "      <td>9</td>\n",
       "      <td>NORWALK</td>\n",
       "      <td>FAIRFIELD</td>\n",
       "      <td>PRODUCTION GANG, TRAVELING NORTH WITH 22 PIECE...</td>\n",
       "      <td>E IMPACT WITH ONE ANOTHER.</td>\n",
       "      <td>NaN</td>\n",
       "      <td>NaN</td>\n",
       "      <td>...</td>\n",
       "      <td>NaN</td>\n",
       "      <td>NaN</td>\n",
       "      <td>NaN</td>\n",
       "      <td>NaN</td>\n",
       "      <td>NaN</td>\n",
       "      <td>NaN</td>\n",
       "      <td>NaN</td>\n",
       "      <td>NaN</td>\n",
       "      <td>NaN</td>\n",
       "      <td>PRODUCTION GANG, TRAVELING NORTH WITH 22 PIECE...</td>\n",
       "    </tr>\n",
       "    <tr>\n",
       "      <th>2</th>\n",
       "      <td>19</td>\n",
       "      <td>4</td>\n",
       "      <td>FEC</td>\n",
       "      <td>12</td>\n",
       "      <td>POMPANO BEACH</td>\n",
       "      <td>BROWARD</td>\n",
       "      <td>BLF 604 WAS TRAVELING SOUTHBOUND ON EAST MAIN ...</td>\n",
       "      <td>G ACROSS THE TRACKS WITH HIS BIKE FROM THE WES...</td>\n",
       "      <td>LOCOMOTIVE ENGINEER SOUNDED HORN AND BELL TO W...</td>\n",
       "      <td>ASSER WAS STRUCK RESULTING IN A FATALITY.  BLF...</td>\n",
       "      <td>...</td>\n",
       "      <td>NaN</td>\n",
       "      <td>NaN</td>\n",
       "      <td>NaN</td>\n",
       "      <td>NaN</td>\n",
       "      <td>NaN</td>\n",
       "      <td>NaN</td>\n",
       "      <td>NaN</td>\n",
       "      <td>NaN</td>\n",
       "      <td>NaN</td>\n",
       "      <td>BLF 604 WAS TRAVELING SOUTHBOUND ON EAST MAIN ...</td>\n",
       "    </tr>\n",
       "    <tr>\n",
       "      <th>3</th>\n",
       "      <td>19</td>\n",
       "      <td>4</td>\n",
       "      <td>FEC</td>\n",
       "      <td>12</td>\n",
       "      <td>POMPANO BEACH</td>\n",
       "      <td>BROWARD</td>\n",
       "      <td>BLF 606 WAS TRAVELING SOUTHBOUND ON EAST MAIN ...</td>\n",
       "      <td>MOTIVE ENGINEER SOUNDED HORN AND BELL AND PLAC...</td>\n",
       "      <td>NGERS IN VEHICLE WERE TRANSPORTED TO LOCAL HOS...</td>\n",
       "      <td>NaN</td>\n",
       "      <td>...</td>\n",
       "      <td>NaN</td>\n",
       "      <td>NaN</td>\n",
       "      <td>NaN</td>\n",
       "      <td>NaN</td>\n",
       "      <td>NaN</td>\n",
       "      <td>NaN</td>\n",
       "      <td>NaN</td>\n",
       "      <td>NaN</td>\n",
       "      <td>NaN</td>\n",
       "      <td>BLF 606 WAS TRAVELING SOUTHBOUND ON EAST MAIN ...</td>\n",
       "    </tr>\n",
       "    <tr>\n",
       "      <th>4</th>\n",
       "      <td>19</td>\n",
       "      <td>4</td>\n",
       "      <td>CSX</td>\n",
       "      <td>12</td>\n",
       "      <td>SEVILLE</td>\n",
       "      <td>VOLUSIA</td>\n",
       "      <td>AMTRAK P09811 STRUCK SEMI AT PRIVATE CROSSING.</td>\n",
       "      <td>NaN</td>\n",
       "      <td>NaN</td>\n",
       "      <td>NaN</td>\n",
       "      <td>...</td>\n",
       "      <td>NaN</td>\n",
       "      <td>NaN</td>\n",
       "      <td>NaN</td>\n",
       "      <td>NaN</td>\n",
       "      <td>NaN</td>\n",
       "      <td>NaN</td>\n",
       "      <td>NaN</td>\n",
       "      <td>NaN</td>\n",
       "      <td>NaN</td>\n",
       "      <td>AMTRAK P09811 STRUCK SEMI AT PRIVATE CROSSING.</td>\n",
       "    </tr>\n",
       "  </tbody>\n",
       "</table>\n",
       "<p>5 rows × 22 columns</p>\n",
       "</div>"
      ],
      "text/plain": [
       "   IYR  IMO RAILROAD  STATE        STATION     COUNTY  \\\n",
       "0   19   11      ATK      6    CASTROVILLE   MONTEREY   \n",
       "1   19   10     MNCW      9        NORWALK  FAIRFIELD   \n",
       "2   19    4      FEC     12  POMPANO BEACH    BROWARD   \n",
       "3   19    4      FEC     12  POMPANO BEACH    BROWARD   \n",
       "4   19    4      CSX     12        SEVILLE    VOLUSIA   \n",
       "\n",
       "                                               NARR1  \\\n",
       "0  CAMERA-EQUIPPED TRAIN 14 STRUCK AN OCCUPIED SA...   \n",
       "1  PRODUCTION GANG, TRAVELING NORTH WITH 22 PIECE...   \n",
       "2  BLF 604 WAS TRAVELING SOUTHBOUND ON EAST MAIN ...   \n",
       "3  BLF 606 WAS TRAVELING SOUTHBOUND ON EAST MAIN ...   \n",
       "4     AMTRAK P09811 STRUCK SEMI AT PRIVATE CROSSING.   \n",
       "\n",
       "                                               NARR2  \\\n",
       "0  HE OCCUPANT OF THE VEHICLE WAS A CONFIRMED FAT...   \n",
       "1                         E IMPACT WITH ONE ANOTHER.   \n",
       "2  G ACROSS THE TRACKS WITH HIS BIKE FROM THE WES...   \n",
       "3  MOTIVE ENGINEER SOUNDED HORN AND BELL AND PLAC...   \n",
       "4                                                NaN   \n",
       "\n",
       "                                               NARR3  \\\n",
       "0                                                NaN   \n",
       "1                                                NaN   \n",
       "2  LOCOMOTIVE ENGINEER SOUNDED HORN AND BELL TO W...   \n",
       "3  NGERS IN VEHICLE WERE TRANSPORTED TO LOCAL HOS...   \n",
       "4                                                NaN   \n",
       "\n",
       "                                               NARR4  ... NARR7 NARR8 NARR9  \\\n",
       "0                                                NaN  ...   NaN   NaN   NaN   \n",
       "1                                                NaN  ...   NaN   NaN   NaN   \n",
       "2  ASSER WAS STRUCK RESULTING IN A FATALITY.  BLF...  ...   NaN   NaN   NaN   \n",
       "3                                                NaN  ...   NaN   NaN   NaN   \n",
       "4                                                NaN  ...   NaN   NaN   NaN   \n",
       "\n",
       "  NARR10 NARR11 NARR12 NARR13 NARR14 NARR15  \\\n",
       "0    NaN    NaN    NaN    NaN    NaN    NaN   \n",
       "1    NaN    NaN    NaN    NaN    NaN    NaN   \n",
       "2    NaN    NaN    NaN    NaN    NaN    NaN   \n",
       "3    NaN    NaN    NaN    NaN    NaN    NaN   \n",
       "4    NaN    NaN    NaN    NaN    NaN    NaN   \n",
       "\n",
       "                                                NARR  \n",
       "0  CAMERA-EQUIPPED TRAIN 14 STRUCK AN OCCUPIED SA...  \n",
       "1  PRODUCTION GANG, TRAVELING NORTH WITH 22 PIECE...  \n",
       "2  BLF 604 WAS TRAVELING SOUTHBOUND ON EAST MAIN ...  \n",
       "3  BLF 606 WAS TRAVELING SOUTHBOUND ON EAST MAIN ...  \n",
       "4     AMTRAK P09811 STRUCK SEMI AT PRIVATE CROSSING.  \n",
       "\n",
       "[5 rows x 22 columns]"
      ]
     },
     "execution_count": 9,
     "metadata": {},
     "output_type": "execute_result"
    }
   ],
   "source": [
    "raw_data_df.head()"
   ]
  },
  {
   "cell_type": "markdown",
   "metadata": {},
   "source": [
    "Ok, we see that it has worked - we have a new column with just NARR. But let's double check whether the function has really done what we wanted"
   ]
  },
  {
   "cell_type": "code",
   "execution_count": 10,
   "metadata": {},
   "outputs": [
    {
     "data": {
      "text/plain": [
       "'PRODUCTION GANG, TRAVELING NORTH WITH 22 PIECES OF EQUIPMENT, HAD 7 SEPERATE PIECES OF EQUIPMENT MAK'"
      ]
     },
     "execution_count": 10,
     "metadata": {},
     "output_type": "execute_result"
    }
   ],
   "source": [
    "raw_data_df.iloc[1,6] # NARR1 in first row 7th column"
   ]
  },
  {
   "cell_type": "code",
   "execution_count": 11,
   "metadata": {},
   "outputs": [
    {
     "data": {
      "text/plain": [
       "'E IMPACT WITH ONE ANOTHER.'"
      ]
     },
     "execution_count": 11,
     "metadata": {},
     "output_type": "execute_result"
    }
   ],
   "source": [
    "raw_data_df.iloc[1,7] #NARR2 in first row 8th column"
   ]
  },
  {
   "cell_type": "code",
   "execution_count": 12,
   "metadata": {},
   "outputs": [
    {
     "data": {
      "text/plain": [
       "'PRODUCTION GANG, TRAVELING NORTH WITH 22 PIECES OF EQUIPMENT, HAD 7 SEPERATE PIECES OF EQUIPMENT MAK E IMPACT WITH ONE ANOTHER.'"
      ]
     },
     "execution_count": 12,
     "metadata": {},
     "output_type": "execute_result"
    }
   ],
   "source": [
    "raw_data_df.iloc[1,21] #NARR raw_data_df.iloc[1,-1] another way of selecting last row"
   ]
  },
  {
   "cell_type": "markdown",
   "metadata": {},
   "source": [
    "Great - it has worked! The incident text of the first two NARR columns got combined into the newly created NARR column. Now let's select only this column and the other few"
   ]
  },
  {
   "cell_type": "code",
   "execution_count": 13,
   "metadata": {},
   "outputs": [],
   "source": [
    "#we want to delete columns in range 6-20\n",
    "cols = list(range(6,21))"
   ]
  },
  {
   "cell_type": "code",
   "execution_count": 14,
   "metadata": {},
   "outputs": [
    {
     "data": {
      "text/plain": [
       "[6, 7, 8, 9, 10, 11, 12, 13, 14, 15, 16, 17, 18, 19, 20]"
      ]
     },
     "execution_count": 14,
     "metadata": {},
     "output_type": "execute_result"
    }
   ],
   "source": [
    "cols"
   ]
  },
  {
   "cell_type": "markdown",
   "metadata": {},
   "source": [
    "Why am I not just selecting the columns I need and create a new dataframe?\n",
    "I could: df_new= raw_data_df[['IYR','IMO', 'STATE', 'RAILROAD', 'STATION', 'COUNTY', 'NARR]]\n",
    "But imagine you have many more columns in your dataset. Doing it this way could be very tedious\n",
    "However, we know the range of columns we want to delete - 6th until 19th columns, so we can define that range and tell pandas to delete that range of columns"
   ]
  },
  {
   "cell_type": "code",
   "execution_count": 15,
   "metadata": {},
   "outputs": [],
   "source": [
    "raw_data_df.drop(raw_data_df.columns[cols],axis=1,inplace=True)"
   ]
  },
  {
   "cell_type": "code",
   "execution_count": 16,
   "metadata": {
    "scrolled": true
   },
   "outputs": [
    {
     "data": {
      "text/html": [
       "<div>\n",
       "<style scoped>\n",
       "    .dataframe tbody tr th:only-of-type {\n",
       "        vertical-align: middle;\n",
       "    }\n",
       "\n",
       "    .dataframe tbody tr th {\n",
       "        vertical-align: top;\n",
       "    }\n",
       "\n",
       "    .dataframe thead th {\n",
       "        text-align: right;\n",
       "    }\n",
       "</style>\n",
       "<table border=\"1\" class=\"dataframe\">\n",
       "  <thead>\n",
       "    <tr style=\"text-align: right;\">\n",
       "      <th></th>\n",
       "      <th>IYR</th>\n",
       "      <th>IMO</th>\n",
       "      <th>RAILROAD</th>\n",
       "      <th>STATE</th>\n",
       "      <th>STATION</th>\n",
       "      <th>COUNTY</th>\n",
       "      <th>NARR</th>\n",
       "    </tr>\n",
       "  </thead>\n",
       "  <tbody>\n",
       "    <tr>\n",
       "      <th>0</th>\n",
       "      <td>19</td>\n",
       "      <td>11</td>\n",
       "      <td>ATK</td>\n",
       "      <td>6</td>\n",
       "      <td>CASTROVILLE</td>\n",
       "      <td>MONTEREY</td>\n",
       "      <td>CAMERA-EQUIPPED TRAIN 14 STRUCK AN OCCUPIED SA...</td>\n",
       "    </tr>\n",
       "    <tr>\n",
       "      <th>1</th>\n",
       "      <td>19</td>\n",
       "      <td>10</td>\n",
       "      <td>MNCW</td>\n",
       "      <td>9</td>\n",
       "      <td>NORWALK</td>\n",
       "      <td>FAIRFIELD</td>\n",
       "      <td>PRODUCTION GANG, TRAVELING NORTH WITH 22 PIECE...</td>\n",
       "    </tr>\n",
       "    <tr>\n",
       "      <th>2</th>\n",
       "      <td>19</td>\n",
       "      <td>4</td>\n",
       "      <td>FEC</td>\n",
       "      <td>12</td>\n",
       "      <td>POMPANO BEACH</td>\n",
       "      <td>BROWARD</td>\n",
       "      <td>BLF 604 WAS TRAVELING SOUTHBOUND ON EAST MAIN ...</td>\n",
       "    </tr>\n",
       "    <tr>\n",
       "      <th>3</th>\n",
       "      <td>19</td>\n",
       "      <td>4</td>\n",
       "      <td>FEC</td>\n",
       "      <td>12</td>\n",
       "      <td>POMPANO BEACH</td>\n",
       "      <td>BROWARD</td>\n",
       "      <td>BLF 606 WAS TRAVELING SOUTHBOUND ON EAST MAIN ...</td>\n",
       "    </tr>\n",
       "    <tr>\n",
       "      <th>4</th>\n",
       "      <td>19</td>\n",
       "      <td>4</td>\n",
       "      <td>CSX</td>\n",
       "      <td>12</td>\n",
       "      <td>SEVILLE</td>\n",
       "      <td>VOLUSIA</td>\n",
       "      <td>AMTRAK P09811 STRUCK SEMI AT PRIVATE CROSSING.</td>\n",
       "    </tr>\n",
       "    <tr>\n",
       "      <th>...</th>\n",
       "      <td>...</td>\n",
       "      <td>...</td>\n",
       "      <td>...</td>\n",
       "      <td>...</td>\n",
       "      <td>...</td>\n",
       "      <td>...</td>\n",
       "      <td>...</td>\n",
       "    </tr>\n",
       "    <tr>\n",
       "      <th>2679</th>\n",
       "      <td>19</td>\n",
       "      <td>2</td>\n",
       "      <td>TRC</td>\n",
       "      <td>6</td>\n",
       "      <td>TRONA</td>\n",
       "      <td>SAN BERNARDINO</td>\n",
       "      <td>RUN 2 WAS IN THE PROCESS OF PULLING THE HEAD 1...</td>\n",
       "    </tr>\n",
       "    <tr>\n",
       "      <th>2680</th>\n",
       "      <td>19</td>\n",
       "      <td>2</td>\n",
       "      <td>NCTC</td>\n",
       "      <td>6</td>\n",
       "      <td>OCEANSIDE</td>\n",
       "      <td>SAN DIEGO</td>\n",
       "      <td>METROLINK 858 DERAILED AT STUART MESA YARD.</td>\n",
       "    </tr>\n",
       "    <tr>\n",
       "      <th>2681</th>\n",
       "      <td>19</td>\n",
       "      <td>1</td>\n",
       "      <td>MET</td>\n",
       "      <td>6</td>\n",
       "      <td>MODESTO</td>\n",
       "      <td>STANISLAUS</td>\n",
       "      <td>ON THE MORNING OF JANUARY 15, 2019, CONDUCTOR ...</td>\n",
       "    </tr>\n",
       "    <tr>\n",
       "      <th>2682</th>\n",
       "      <td>19</td>\n",
       "      <td>7</td>\n",
       "      <td>BNSF</td>\n",
       "      <td>6</td>\n",
       "      <td>BAKERSFIELD</td>\n",
       "      <td>KERN</td>\n",
       "      <td>EMPLOYEE STOPPED AND LINED THE DERAIL TO THE W...</td>\n",
       "    </tr>\n",
       "    <tr>\n",
       "      <th>2683</th>\n",
       "      <td>19</td>\n",
       "      <td>12</td>\n",
       "      <td>UP</td>\n",
       "      <td>6</td>\n",
       "      <td>BLOOMINGTON</td>\n",
       "      <td>SAN BERNARDINO</td>\n",
       "      <td>LOQ25-26 WAS MAKING A SHOVING MOVE WITH LIGHT ...</td>\n",
       "    </tr>\n",
       "  </tbody>\n",
       "</table>\n",
       "<p>2401 rows × 7 columns</p>\n",
       "</div>"
      ],
      "text/plain": [
       "      IYR  IMO RAILROAD  STATE        STATION          COUNTY  \\\n",
       "0      19   11      ATK      6    CASTROVILLE        MONTEREY   \n",
       "1      19   10     MNCW      9        NORWALK       FAIRFIELD   \n",
       "2      19    4      FEC     12  POMPANO BEACH         BROWARD   \n",
       "3      19    4      FEC     12  POMPANO BEACH         BROWARD   \n",
       "4      19    4      CSX     12        SEVILLE         VOLUSIA   \n",
       "...   ...  ...      ...    ...            ...             ...   \n",
       "2679   19    2      TRC      6          TRONA  SAN BERNARDINO   \n",
       "2680   19    2     NCTC      6      OCEANSIDE       SAN DIEGO   \n",
       "2681   19    1      MET      6        MODESTO      STANISLAUS   \n",
       "2682   19    7     BNSF      6    BAKERSFIELD            KERN   \n",
       "2683   19   12       UP      6    BLOOMINGTON  SAN BERNARDINO   \n",
       "\n",
       "                                                   NARR  \n",
       "0     CAMERA-EQUIPPED TRAIN 14 STRUCK AN OCCUPIED SA...  \n",
       "1     PRODUCTION GANG, TRAVELING NORTH WITH 22 PIECE...  \n",
       "2     BLF 604 WAS TRAVELING SOUTHBOUND ON EAST MAIN ...  \n",
       "3     BLF 606 WAS TRAVELING SOUTHBOUND ON EAST MAIN ...  \n",
       "4        AMTRAK P09811 STRUCK SEMI AT PRIVATE CROSSING.  \n",
       "...                                                 ...  \n",
       "2679  RUN 2 WAS IN THE PROCESS OF PULLING THE HEAD 1...  \n",
       "2680        METROLINK 858 DERAILED AT STUART MESA YARD.  \n",
       "2681  ON THE MORNING OF JANUARY 15, 2019, CONDUCTOR ...  \n",
       "2682  EMPLOYEE STOPPED AND LINED THE DERAIL TO THE W...  \n",
       "2683  LOQ25-26 WAS MAKING A SHOVING MOVE WITH LIGHT ...  \n",
       "\n",
       "[2401 rows x 7 columns]"
      ]
     },
     "execution_count": 16,
     "metadata": {},
     "output_type": "execute_result"
    }
   ],
   "source": [
    "raw_data_df"
   ]
  },
  {
   "cell_type": "markdown",
   "metadata": {},
   "source": [
    "## Data Exploration\n",
    "Awesome. Finally we have our clean df and can start with our data exploration.\n",
    "Let's get some feel for the data check what Railroad, state, station and county is represented the most and in what month most incidents occur. If you are interested only in the text analysis, feel free so scroll ahead"
   ]
  },
  {
   "cell_type": "code",
   "execution_count": 17,
   "metadata": {},
   "outputs": [
    {
     "data": {
      "text/plain": [
       "10.17"
      ]
     },
     "execution_count": 17,
     "metadata": {},
     "output_type": "execute_result"
    }
   ],
   "source": [
    "first_100 = raw_data_df['STATION'].value_counts()[:100]\n",
    "first_100.mean()\n",
    "#mean incidents per year of 100 biggest stations (cities)"
   ]
  },
  {
   "cell_type": "code",
   "execution_count": 18,
   "metadata": {},
   "outputs": [
    {
     "data": {
      "text/plain": [
       "6.9849115884877095"
      ]
     },
     "execution_count": 18,
     "metadata": {},
     "output_type": "execute_result"
    }
   ],
   "source": [
    "first_100.std()\n",
    "#standard deviation"
   ]
  },
  {
   "cell_type": "code",
   "execution_count": 19,
   "metadata": {},
   "outputs": [
    {
     "data": {
      "text/plain": [
       "<matplotlib.axes._subplots.AxesSubplot at 0x7fba8961fe10>"
      ]
     },
     "execution_count": 19,
     "metadata": {},
     "output_type": "execute_result"
    },
    {
     "data": {
      "image/png": "[encoded data removed]",
      "text/plain": [
       "<Figure size 432x288 with 1 Axes>"
      ]
     },
     "metadata": {
      "needs_background": "light"
     },
     "output_type": "display_data"
    }
   ],
   "source": [
    "#months\n",
    "raw_data_df['IMO'].value_counts().plot.bar()"
   ]
  },
  {
   "cell_type": "markdown",
   "metadata": {},
   "source": [
    "Interesting - it seems like january and august have more incidents than the other months. "
   ]
  },
  {
   "cell_type": "code",
   "execution_count": 20,
   "metadata": {},
   "outputs": [
    {
     "data": {
      "text/plain": [
       "<matplotlib.axes._subplots.AxesSubplot at 0x7fba87f7e2d0>"
      ]
     },
     "execution_count": 20,
     "metadata": {},
     "output_type": "execute_result"
    },
    {
     "data": {
      "image/png": "[encoded data removed]",
      "text/plain": [
       "<Figure size 432x288 with 1 Axes>"
      ]
     },
     "metadata": {
      "needs_background": "light"
     },
     "output_type": "display_data"
    }
   ],
   "source": [
    "raw_data_df['STATE'].value_counts().plot.bar()"
   ]
  },
  {
   "cell_type": "code",
   "execution_count": 21,
   "metadata": {},
   "outputs": [
    {
     "data": {
      "text/plain": [
       "48    282\n",
       "17    235\n",
       "6     154\n",
       "31     91\n",
       "18     87\n",
       "Name: STATE, dtype: int64"
      ]
     },
     "execution_count": 21,
     "metadata": {},
     "output_type": "execute_result"
    }
   ],
   "source": [
    "#top 5\n",
    "raw_data_df['STATE'].value_counts()[:5]"
   ]
  },
  {
   "cell_type": "markdown",
   "metadata": {},
   "source": [
    "I do not know how the states are numbered in this dataset - it does not seem to be alphabetically. Let's check it manually by County\n"
   ]
  },
  {
   "cell_type": "code",
   "execution_count": 22,
   "metadata": {},
   "outputs": [
    {
     "data": {
      "text/html": [
       "<div>\n",
       "<style scoped>\n",
       "    .dataframe tbody tr th:only-of-type {\n",
       "        vertical-align: middle;\n",
       "    }\n",
       "\n",
       "    .dataframe tbody tr th {\n",
       "        vertical-align: top;\n",
       "    }\n",
       "\n",
       "    .dataframe thead th {\n",
       "        text-align: right;\n",
       "    }\n",
       "</style>\n",
       "<table border=\"1\" class=\"dataframe\">\n",
       "  <thead>\n",
       "    <tr style=\"text-align: right;\">\n",
       "      <th></th>\n",
       "      <th>IYR</th>\n",
       "      <th>IMO</th>\n",
       "      <th>RAILROAD</th>\n",
       "      <th>STATE</th>\n",
       "      <th>STATION</th>\n",
       "      <th>COUNTY</th>\n",
       "      <th>NARR</th>\n",
       "    </tr>\n",
       "  </thead>\n",
       "  <tbody>\n",
       "    <tr>\n",
       "      <th>307</th>\n",
       "      <td>19</td>\n",
       "      <td>12</td>\n",
       "      <td>XTGS</td>\n",
       "      <td>48</td>\n",
       "      <td>ANAHUAC</td>\n",
       "      <td>CHAMBERS</td>\n",
       "      <td>BALLAST WAS FOULING THE TRACK DURING LOADING A...</td>\n",
       "    </tr>\n",
       "    <tr>\n",
       "      <th>308</th>\n",
       "      <td>19</td>\n",
       "      <td>1</td>\n",
       "      <td>UP</td>\n",
       "      <td>48</td>\n",
       "      <td>BEAUMONT</td>\n",
       "      <td>JEFFERSON</td>\n",
       "      <td>THE YBM05R-07 HAD A HOLD OF 65 CARS IN HUMP OP...</td>\n",
       "    </tr>\n",
       "    <tr>\n",
       "      <th>309</th>\n",
       "      <td>19</td>\n",
       "      <td>10</td>\n",
       "      <td>TXOR</td>\n",
       "      <td>48</td>\n",
       "      <td>SWEETWATER</td>\n",
       "      <td>NOLAN</td>\n",
       "      <td>TXOR DERAILED 15 LOADED CARS OUT OF 25 LOADED ...</td>\n",
       "    </tr>\n",
       "    <tr>\n",
       "      <th>310</th>\n",
       "      <td>19</td>\n",
       "      <td>10</td>\n",
       "      <td>UP</td>\n",
       "      <td>48</td>\n",
       "      <td>EL PASO</td>\n",
       "      <td>EL PASO</td>\n",
       "      <td>MHNTU-24 TRAVELING WEST DERAILED THE TRAILING ...</td>\n",
       "    </tr>\n",
       "    <tr>\n",
       "      <th>311</th>\n",
       "      <td>19</td>\n",
       "      <td>8</td>\n",
       "      <td>UP</td>\n",
       "      <td>48</td>\n",
       "      <td>EL PASO</td>\n",
       "      <td>EL PASO</td>\n",
       "      <td>MTUEP-11 WAS SHOVING LIGHT POWER WEST IN 835 T...</td>\n",
       "    </tr>\n",
       "    <tr>\n",
       "      <th>...</th>\n",
       "      <td>...</td>\n",
       "      <td>...</td>\n",
       "      <td>...</td>\n",
       "      <td>...</td>\n",
       "      <td>...</td>\n",
       "      <td>...</td>\n",
       "      <td>...</td>\n",
       "    </tr>\n",
       "    <tr>\n",
       "      <th>2658</th>\n",
       "      <td>19</td>\n",
       "      <td>9</td>\n",
       "      <td>XTGS</td>\n",
       "      <td>48</td>\n",
       "      <td>ANAHUAC</td>\n",
       "      <td>CHAMBERS</td>\n",
       "      <td>CREW FAILED TO VERIFY LINING OF CROSSOVER SWIT...</td>\n",
       "    </tr>\n",
       "    <tr>\n",
       "      <th>2659</th>\n",
       "      <td>19</td>\n",
       "      <td>3</td>\n",
       "      <td>UP</td>\n",
       "      <td>48</td>\n",
       "      <td>TOYAH</td>\n",
       "      <td>REEVES</td>\n",
       "      <td>TRAIN ISINSX-03 STRUCK A SEMI TRUCK LOADED WIT...</td>\n",
       "    </tr>\n",
       "    <tr>\n",
       "      <th>2660</th>\n",
       "      <td>19</td>\n",
       "      <td>9</td>\n",
       "      <td>XTGS</td>\n",
       "      <td>48</td>\n",
       "      <td>ANAHUAC</td>\n",
       "      <td>CHAMBERS</td>\n",
       "      <td>CREW WAS PULLING CARS OUT OF TRACK 888 IN G-YA...</td>\n",
       "    </tr>\n",
       "    <tr>\n",
       "      <th>2661</th>\n",
       "      <td>19</td>\n",
       "      <td>2</td>\n",
       "      <td>UP</td>\n",
       "      <td>48</td>\n",
       "      <td>WHITSETT</td>\n",
       "      <td>LIVE OAK</td>\n",
       "      <td>THE WVJVBR-13 STRUCK A LOADED SEMI OF FRACKING...</td>\n",
       "    </tr>\n",
       "    <tr>\n",
       "      <th>2662</th>\n",
       "      <td>19</td>\n",
       "      <td>3</td>\n",
       "      <td>UP</td>\n",
       "      <td>48</td>\n",
       "      <td>SIERRA BLANCA</td>\n",
       "      <td>HUDSPETH</td>\n",
       "      <td>ILXMNX-06, UP7496, HIT THE UNOCCUPIED VEHICLE,...</td>\n",
       "    </tr>\n",
       "  </tbody>\n",
       "</table>\n",
       "<p>282 rows × 7 columns</p>\n",
       "</div>"
      ],
      "text/plain": [
       "      IYR  IMO RAILROAD  STATE        STATION     COUNTY  \\\n",
       "307    19   12     XTGS     48        ANAHUAC   CHAMBERS   \n",
       "308    19    1       UP     48       BEAUMONT  JEFFERSON   \n",
       "309    19   10     TXOR     48     SWEETWATER      NOLAN   \n",
       "310    19   10       UP     48        EL PASO    EL PASO   \n",
       "311    19    8       UP     48        EL PASO    EL PASO   \n",
       "...   ...  ...      ...    ...            ...        ...   \n",
       "2658   19    9     XTGS     48        ANAHUAC   CHAMBERS   \n",
       "2659   19    3       UP     48          TOYAH     REEVES   \n",
       "2660   19    9     XTGS     48        ANAHUAC   CHAMBERS   \n",
       "2661   19    2       UP     48       WHITSETT   LIVE OAK   \n",
       "2662   19    3       UP     48  SIERRA BLANCA   HUDSPETH   \n",
       "\n",
       "                                                   NARR  \n",
       "307   BALLAST WAS FOULING THE TRACK DURING LOADING A...  \n",
       "308   THE YBM05R-07 HAD A HOLD OF 65 CARS IN HUMP OP...  \n",
       "309   TXOR DERAILED 15 LOADED CARS OUT OF 25 LOADED ...  \n",
       "310   MHNTU-24 TRAVELING WEST DERAILED THE TRAILING ...  \n",
       "311   MTUEP-11 WAS SHOVING LIGHT POWER WEST IN 835 T...  \n",
       "...                                                 ...  \n",
       "2658  CREW FAILED TO VERIFY LINING OF CROSSOVER SWIT...  \n",
       "2659  TRAIN ISINSX-03 STRUCK A SEMI TRUCK LOADED WIT...  \n",
       "2660  CREW WAS PULLING CARS OUT OF TRACK 888 IN G-YA...  \n",
       "2661  THE WVJVBR-13 STRUCK A LOADED SEMI OF FRACKING...  \n",
       "2662  ILXMNX-06, UP7496, HIT THE UNOCCUPIED VEHICLE,...  \n",
       "\n",
       "[282 rows x 7 columns]"
      ]
     },
     "execution_count": 22,
     "metadata": {},
     "output_type": "execute_result"
    }
   ],
   "source": [
    "raw_data_df[raw_data_df['STATE'] == 48]"
   ]
  },
  {
   "cell_type": "markdown",
   "metadata": {},
   "source": [
    "### some of the states\n",
    "\n",
    "48: Texas\n",
    "\n",
    "17: Illinois\n",
    "\n",
    "6: California\n",
    "\n",
    "2: Alaska (not surprising)\n"
   ]
  },
  {
   "cell_type": "code",
   "execution_count": 23,
   "metadata": {},
   "outputs": [
    {
     "data": {
      "text/plain": [
       "COOK           106\n",
       "JEFFERSON       65\n",
       "LINCOLN         43\n",
       "ST CLAIR        38\n",
       "HARRIS          37\n",
       "JACKSON         32\n",
       "LOS ANGELES     31\n",
       "TARRANT         27\n",
       "WYANDOTTE       26\n",
       "MARION          26\n",
       "Name: COUNTY, dtype: int64"
      ]
     },
     "execution_count": 23,
     "metadata": {},
     "output_type": "execute_result"
    }
   ],
   "source": [
    "raw_data_df['COUNTY'].value_counts()[:10]"
   ]
  },
  {
   "cell_type": "markdown",
   "metadata": {},
   "source": [
    "Cook County is only the second most populous county in the states after LA - but has almost 4 times as many incidents as LA. However, Illinois has more railway track (9,982 miles) compared to Californias 6863 miles"
   ]
  },
  {
   "cell_type": "code",
   "execution_count": 24,
   "metadata": {},
   "outputs": [
    {
     "data": {
      "text/plain": [
       "KANSAS CITY      48\n",
       "CHICAGO          34\n",
       "NORTH PLATTE     34\n",
       "EAST ST LOUIS    32\n",
       "MELROSE PARK     24\n",
       "DAYTON           22\n",
       "HOUSTON          22\n",
       "FORT WORTH       17\n",
       "NASHVILLE        17\n",
       "LINCOLN          15\n",
       "Name: STATION, dtype: int64"
      ]
     },
     "execution_count": 24,
     "metadata": {},
     "output_type": "execute_result"
    }
   ],
   "source": [
    "raw_data_df['STATION'].value_counts()[:10]"
   ]
  },
  {
   "cell_type": "markdown",
   "metadata": {},
   "source": [
    "Wow - Kansas City in Missouri (which does not even come up in the top 5 states with most incidents) leads the table with 48 incidents in 2019. NORTH PLATTE in Nebraska is second (#5 in our list above of top 5 states). Chicago is in Illinois (#2). Melrose Park (Illinois), East St Louis (Illinois)."
   ]
  },
  {
   "cell_type": "code",
   "execution_count": 25,
   "metadata": {},
   "outputs": [
    {
     "data": {
      "text/plain": [
       "UP      689\n",
       "BNSF    403\n",
       "NS      309\n",
       "CSX     204\n",
       "ATK     119\n",
       "Name: RAILROAD, dtype: int64"
      ]
     },
     "execution_count": 25,
     "metadata": {},
     "output_type": "execute_result"
    }
   ],
   "source": [
    "raw_data_df['RAILROAD'].value_counts()[:5]"
   ]
  },
  {
   "cell_type": "markdown",
   "metadata": {},
   "source": [
    "it seems like UP (Union Pacific) has the most incidents. But maybe they just have more miles than the other companies. I have googled how many track miles each company has \n",
    "\n",
    "UP      32,100 miles\n",
    "BNSF    32,500 miles \n",
    "NS      20,000 miles\n",
    "CSX     21,000 miles\n"
   ]
  },
  {
   "cell_type": "code",
   "execution_count": 26,
   "metadata": {},
   "outputs": [],
   "source": [
    "# I am storing the number of incidents and the railroad miles in lists\n",
    "railroad_incidents = [689, 403, 309, 204]\n",
    "railroad_miles = [32100, 32500, 20000, 21000]"
   ]
  },
  {
   "cell_type": "code",
   "execution_count": 27,
   "metadata": {},
   "outputs": [],
   "source": [
    "import matplotlib.pyplot as plt\n",
    "# if uising a Jupyter notebook, include:\n",
    "%matplotlib inline"
   ]
  },
  {
   "cell_type": "code",
   "execution_count": 28,
   "metadata": {},
   "outputs": [
    {
     "data": {
      "image/png": "[encoded data removed]",
      "text/plain": [
       "<Figure size 432x288 with 1 Axes>"
      ]
     },
     "metadata": {
      "needs_background": "light"
     },
     "output_type": "display_data"
    }
   ],
   "source": [
    "#lets plot number of incidents and track miles\n",
    "fig, ax = plt.subplots()\n",
    "ax.scatter(railroad_miles,railroad_incidents)\n",
    "\n",
    "plt.show()\n"
   ]
  },
  {
   "cell_type": "markdown",
   "metadata": {},
   "source": [
    "We can see that UP is clearly an outlier compared to the other 3 railroads when comparing incident number to railroad miles"
   ]
  },
  {
   "cell_type": "markdown",
   "metadata": {},
   "source": [
    "## Kansas City as example\n",
    "Out of curiosity I will have a look at the incidents in kansas city and save it in a new dataframe kansas_df"
   ]
  },
  {
   "cell_type": "code",
   "execution_count": 29,
   "metadata": {},
   "outputs": [],
   "source": [
    "kansas_df = raw_data_df[raw_data_df['STATION'] == \"KANSAS CITY\"]"
   ]
  },
  {
   "cell_type": "code",
   "execution_count": 30,
   "metadata": {},
   "outputs": [
    {
     "data": {
      "text/html": [
       "<div>\n",
       "<style scoped>\n",
       "    .dataframe tbody tr th:only-of-type {\n",
       "        vertical-align: middle;\n",
       "    }\n",
       "\n",
       "    .dataframe tbody tr th {\n",
       "        vertical-align: top;\n",
       "    }\n",
       "\n",
       "    .dataframe thead th {\n",
       "        text-align: right;\n",
       "    }\n",
       "</style>\n",
       "<table border=\"1\" class=\"dataframe\">\n",
       "  <thead>\n",
       "    <tr style=\"text-align: right;\">\n",
       "      <th></th>\n",
       "      <th>IYR</th>\n",
       "      <th>IMO</th>\n",
       "      <th>RAILROAD</th>\n",
       "      <th>STATE</th>\n",
       "      <th>STATION</th>\n",
       "      <th>COUNTY</th>\n",
       "      <th>NARR</th>\n",
       "    </tr>\n",
       "  </thead>\n",
       "  <tbody>\n",
       "    <tr>\n",
       "      <th>18</th>\n",
       "      <td>19</td>\n",
       "      <td>8</td>\n",
       "      <td>KCT</td>\n",
       "      <td>20</td>\n",
       "      <td>KANSAS CITY</td>\n",
       "      <td>WYANDOTTE</td>\n",
       "      <td>CREW ON UP TRAIN MNPINP-19 USING KCT MAIN LINE...</td>\n",
       "    </tr>\n",
       "    <tr>\n",
       "      <th>36</th>\n",
       "      <td>19</td>\n",
       "      <td>2</td>\n",
       "      <td>UP</td>\n",
       "      <td>29</td>\n",
       "      <td>KANSAS CITY</td>\n",
       "      <td>JACKSON</td>\n",
       "      <td>THE YKC20R-25 WAS HUMPING A CUT OF 100 CARS OF...</td>\n",
       "    </tr>\n",
       "    <tr>\n",
       "      <th>37</th>\n",
       "      <td>19</td>\n",
       "      <td>2</td>\n",
       "      <td>KCS</td>\n",
       "      <td>29</td>\n",
       "      <td>KANSAS CITY</td>\n",
       "      <td>JACKSON</td>\n",
       "      <td>CREW FAILED TO LINE BOTH ENDS OF CROSSOVER FRO...</td>\n",
       "    </tr>\n",
       "    <tr>\n",
       "      <th>38</th>\n",
       "      <td>19</td>\n",
       "      <td>2</td>\n",
       "      <td>KCS</td>\n",
       "      <td>29</td>\n",
       "      <td>KANSAS CITY</td>\n",
       "      <td>JACKSON</td>\n",
       "      <td>CPRS CREW FAILED TO SECURE TRACK 9 &amp; THEY KICK...</td>\n",
       "    </tr>\n",
       "    <tr>\n",
       "      <th>41</th>\n",
       "      <td>19</td>\n",
       "      <td>12</td>\n",
       "      <td>KCS</td>\n",
       "      <td>29</td>\n",
       "      <td>KANSAS CITY</td>\n",
       "      <td>JACKSON</td>\n",
       "      <td>BNSF CREW RAN THRU 126 SWITCH &amp; THEN SHOVED BA...</td>\n",
       "    </tr>\n",
       "  </tbody>\n",
       "</table>\n",
       "</div>"
      ],
      "text/plain": [
       "    IYR  IMO RAILROAD  STATE      STATION     COUNTY  \\\n",
       "18   19    8      KCT     20  KANSAS CITY  WYANDOTTE   \n",
       "36   19    2       UP     29  KANSAS CITY    JACKSON   \n",
       "37   19    2      KCS     29  KANSAS CITY    JACKSON   \n",
       "38   19    2      KCS     29  KANSAS CITY    JACKSON   \n",
       "41   19   12      KCS     29  KANSAS CITY    JACKSON   \n",
       "\n",
       "                                                 NARR  \n",
       "18  CREW ON UP TRAIN MNPINP-19 USING KCT MAIN LINE...  \n",
       "36  THE YKC20R-25 WAS HUMPING A CUT OF 100 CARS OF...  \n",
       "37  CREW FAILED TO LINE BOTH ENDS OF CROSSOVER FRO...  \n",
       "38  CPRS CREW FAILED TO SECURE TRACK 9 & THEY KICK...  \n",
       "41  BNSF CREW RAN THRU 126 SWITCH & THEN SHOVED BA...  "
      ]
     },
     "execution_count": 30,
     "metadata": {},
     "output_type": "execute_result"
    }
   ],
   "source": [
    "kansas_df.head()\n",
    "#dataframe that only contains incidents that happened in Kansas"
   ]
  },
  {
   "cell_type": "code",
   "execution_count": 31,
   "metadata": {},
   "outputs": [
    {
     "data": {
      "text/plain": [
       "<matplotlib.axes._subplots.AxesSubplot at 0x7fba878df350>"
      ]
     },
     "execution_count": 31,
     "metadata": {},
     "output_type": "execute_result"
    },
    {
     "data": {
      "image/png": "[encoded data removed]",
      "text/plain": [
       "<Figure size 432x288 with 1 Axes>"
      ]
     },
     "metadata": {
      "needs_background": "light"
     },
     "output_type": "display_data"
    }
   ],
   "source": [
    "kansas_df['STATE'].value_counts().plot.bar()"
   ]
  },
  {
   "cell_type": "markdown",
   "metadata": {},
   "source": [
    "Not sure why they divide Kansas into Kansas and Missouri if the station is the same - but it does not really matter. Given there are 49 incidents in Kansas, we see in the table with the counties with the most incidents that Jackson and Wyandotte have 58 incidents, hence only 11 outside of Kansas City. "
   ]
  },
  {
   "cell_type": "code",
   "execution_count": null,
   "metadata": {},
   "outputs": [],
   "source": []
  },
  {
   "cell_type": "code",
   "execution_count": 32,
   "metadata": {},
   "outputs": [
    {
     "data": {
      "text/plain": [
       "<matplotlib.axes._subplots.AxesSubplot at 0x7fba878c1c50>"
      ]
     },
     "execution_count": 32,
     "metadata": {},
     "output_type": "execute_result"
    },
    {
     "data": {
      "image/png": "[encoded data removed]",
      "text/plain": [
       "<Figure size 432x288 with 1 Axes>"
      ]
     },
     "metadata": {
      "needs_background": "light"
     },
     "output_type": "display_data"
    }
   ],
   "source": [
    "kansas_df['RAILROAD'].value_counts().plot.bar()"
   ]
  },
  {
   "cell_type": "markdown",
   "metadata": {},
   "source": [
    "Ha - we can see that again, UP is overrepresented with incidents. accoriding to this map https://www.ksdot.org/Assets/wwwksdotorg/bureaus/burRail/Rail/publications/KansasRailroadMap2019.pdf  UP only has 300 miles more than BNSF but almost 3 times as many incidents.\n",
    "\n",
    "It will be interesting to check the incidents texts. Let's finally dive in and check the incidents texts. First for Kansas City only. lets subdivide the kansas dataframe further into a dataframe for UP and a dataframe for the rest"
   ]
  },
  {
   "cell_type": "code",
   "execution_count": 33,
   "metadata": {},
   "outputs": [],
   "source": [
    "kansas_up_df = kansas_df[kansas_df['RAILROAD'] == \"UP\"]"
   ]
  },
  {
   "cell_type": "code",
   "execution_count": 34,
   "metadata": {},
   "outputs": [],
   "source": [
    "kansas_rr_rest_df = kansas_df[kansas_df['RAILROAD'] != \"UP\"]"
   ]
  },
  {
   "cell_type": "markdown",
   "metadata": {},
   "source": [
    "## Some Text Preprocessing\n",
    "Below you see a function which I have copy pasted from one of my own projects. it's my typical go-to text preprocessing function where I delete all stopwords symbols apart from letters, convert the text into lower case and stem or lemmatise the words.\n",
    "\n",
    "Stopwords: A stop word is a commonly used word (such as “the”, “a”, “an”, “in”). We would not want these words to take up space in our dataset, or taking up valuable processing time. Also, wenn looking for common words in our dataset, finding out that \"a\" is the most common, is not particularly interesting\n",
    "\n",
    "Lemmatising: Lemmatisation (or lemmatization) in linguistics is the process of grouping together the inflected forms of a word so they can be analysed as a single item, identified by the word's lemma, or dictionary form.\n",
    "\n",
    "Loved -> love\n",
    "\n",
    "Stemming: In linguistic morphology and information retrieval, stemming is the process of reducing inflected (or sometimes derived) words to their word stem, base or root form—generally a written word form\n",
    "\n",
    "Loved -> lov"
   ]
  },
  {
   "cell_type": "code",
   "execution_count": 35,
   "metadata": {},
   "outputs": [],
   "source": [
    "import re\n",
    "from nltk.stem import WordNetLemmatizer, PorterStemmer, SnowballStemmer\n",
    "stop_words_file = 'SmartStoplist.txt'\n",
    "\n",
    "stop_words = []\n",
    "\n",
    "with open(stop_words_file, \"r\") as f:\n",
    "    for line in f:\n",
    "        stop_words.extend(line.split()) \n",
    "        \n",
    "stop_words = stop_words  \n",
    "\n",
    "def preprocess(raw_text):\n",
    "    \n",
    "    #regular expression keeping only letters - more on them later\n",
    "    letters_only_text = re.sub(\"[^a-zA-Z]\", \" \", raw_text)\n",
    "\n",
    "    # convert to lower case and split into words -> convert string into list ( 'hello world' -> ['hello', 'world'])\n",
    "    words = letters_only_text.lower().split()\n",
    "\n",
    "    cleaned_words = []\n",
    "    lemmatizer = PorterStemmer()\n",
    "    \n",
    "    # remove stopwords\n",
    "    for word in words:\n",
    "        if word not in stop_words:\n",
    "            cleaned_words.append(word)\n",
    "    \n",
    "    # stemm or lemmatise words\n",
    "    stemmed_words = []\n",
    "    for word in cleaned_words:\n",
    "        word = lemmatizer.stem(word)\n",
    "        stemmed_words.append(word)\n",
    "    \n",
    "    # converting list back to string\n",
    "    return \" \".join(stemmed_words)"
   ]
  },
  {
   "cell_type": "code",
   "execution_count": 36,
   "metadata": {},
   "outputs": [
    {
     "data": {
      "text/plain": [
       "'sentenc demonstr preprocess function work'"
      ]
     },
     "execution_count": 36,
     "metadata": {},
     "output_type": "execute_result"
    }
   ],
   "source": [
    "test_sentence = \"this is a sentence to demonstrate how the preprocessing function works...!\"\n",
    "\n",
    "preprocess(test_sentence)"
   ]
  },
  {
   "cell_type": "markdown",
   "metadata": {},
   "source": [
    "you can see that \"sentence\" was stemmed to \"sentenc\", all stop words and punctuation were removed.\n",
    "Let's apply that function to the incident texts in our kansas dataframe"
   ]
  },
  {
   "cell_type": "code",
   "execution_count": 37,
   "metadata": {},
   "outputs": [],
   "source": [
    "kansas_up_df['NARR'] = kansas_up_df['NARR'].apply(preprocess)  #Union Pacific dataframe\n",
    "kansas_rr_rest_df['NARR'] = kansas_rr_rest_df['NARR'].apply(preprocess)  #rest dataframe"
   ]
  },
  {
   "cell_type": "markdown",
   "metadata": {},
   "source": [
    "## Most Common Words\n",
    "In order to get an idea about a dataset, it's useful to have a look at the most common words. Reading through all incident texts is cumbersome and inefficient. Let's extract the most common key words\n"
   ]
  },
  {
   "cell_type": "code",
   "execution_count": 38,
   "metadata": {},
   "outputs": [
    {
     "data": {
      "text/plain": [
       "[('car', 55),\n",
       " ('derail', 39),\n",
       " ('track', 37),\n",
       " ('cut', 19),\n",
       " ('lead', 17),\n",
       " ('rail', 16),\n",
       " ('train', 15),\n",
       " ('switch', 12),\n",
       " ('shove', 12),\n",
       " ('hump', 11)]"
      ]
     },
     "execution_count": 38,
     "metadata": {},
     "output_type": "execute_result"
    }
   ],
   "source": [
    "#let's check the most common words in the UP dataframe\n",
    "from collections import Counter\n",
    "Counter(\" \".join(kansas_up_df[\"NARR\"]).split()).most_common(10)"
   ]
  },
  {
   "cell_type": "code",
   "execution_count": 39,
   "metadata": {},
   "outputs": [
    {
     "data": {
      "image/png": "[encoded data removed]",
      "text/plain": [
       "<Figure size 360x360 with 1 Axes>"
      ]
     },
     "metadata": {
      "needs_background": "light"
     },
     "output_type": "display_data"
    }
   ],
   "source": [
    "#nice library to produce wordclouds\n",
    "from wordcloud import WordCloud\n",
    "\n",
    "kansas_up_words = '' \n",
    "\n",
    "#looping through all incidents and joining them to one text, to extract most common words\n",
    "for arg in kansas_up_df[\"NARR\"]: \n",
    "\n",
    "    tokens = arg.split()  \n",
    "      \n",
    "    kansas_up_words += \" \".join(tokens)+\" \"\n",
    "\n",
    "wordcloud = WordCloud(width = 700, height = 700, \n",
    "                background_color ='white', \n",
    "                min_font_size = 10).generate(kansas_up_words) \n",
    "  \n",
    "# plot the WordCloud image                        \n",
    "plt.figure(figsize = (5, 5), facecolor = None) \n",
    "plt.imshow(wordcloud) \n",
    "plt.axis(\"off\") \n",
    "plt.tight_layout(pad = 0) \n",
    "  \n",
    "plt.show() "
   ]
  },
  {
   "cell_type": "markdown",
   "metadata": {},
   "source": [
    "The word cloud above shows the most common unigrams (single words). This is useful but might also mislead. For example, we can see that \"car\" is the most common one. But what car? An automobile? Do trains hit cars? Let's check for most common bi-grams (two words)"
   ]
  },
  {
   "cell_type": "code",
   "execution_count": 40,
   "metadata": {},
   "outputs": [
    {
     "name": "stdout",
     "output_type": "stream",
     "text": [
      "('cut', 'car') 6\n",
      "('track', 'crew') 3\n",
      "('yk', 'kick') 3\n",
      "('west', 'end') 4\n",
      "('car', 'cut') 3\n",
      "('car', 'derail') 6\n",
      "('rail', 'car') 3\n",
      "('derail', 'derail') 4\n",
      "('yk', 'pull') 3\n",
      "('train', 'shove') 3\n",
      "('track', 'damag') 4\n",
      "('speed', 'mph') 3\n",
      "('cut', 'empti') 3\n",
      "('track', 'derail') 4\n"
     ]
    }
   ],
   "source": [
    "from nltk.util import ngrams\n",
    "n_gram = 2\n",
    "n_gram_dic = dict(Counter(ngrams(kansas_up_words.split(), n_gram)))\n",
    "\n",
    "for i in n_gram_dic:\n",
    "    if n_gram_dic[i] >= 3:\n",
    "        print(i, n_gram_dic[i])\n",
    "    "
   ]
  },
  {
   "cell_type": "markdown",
   "metadata": {},
   "source": [
    "Aha - we see that \"car derail\" is the most common bigram. A railroad car or railcar (American and Canadian English) is a wagon. That makes more sense to me now. Seems like wagons are derailing a lot at Union Pacific - let's check the dataframe that contains the incident texts for the other companies"
   ]
  },
  {
   "cell_type": "code",
   "execution_count": 41,
   "metadata": {},
   "outputs": [
    {
     "data": {
      "text/plain": [
       "[('track', 29),\n",
       " ('switch', 19),\n",
       " ('car', 19),\n",
       " ('railcar', 13),\n",
       " ('derail', 12),\n",
       " ('yard', 11),\n",
       " ('pull', 10),\n",
       " ('kck', 10),\n",
       " ('materi', 10),\n",
       " ('train', 9),\n",
       " ('damag', 9),\n",
       " ('releas', 9),\n",
       " ('crew', 8),\n",
       " ('line', 8),\n",
       " ('east', 8)]"
      ]
     },
     "execution_count": 41,
     "metadata": {},
     "output_type": "execute_result"
    }
   ],
   "source": [
    "\n",
    "Counter(\" \".join(kansas_rr_rest_df[\"NARR\"]).split()).most_common(15)"
   ]
  },
  {
   "cell_type": "code",
   "execution_count": 42,
   "metadata": {},
   "outputs": [
    {
     "data": {
      "image/png": "[encoded data removed]",
      "text/plain": [
       "<Figure size 360x360 with 1 Axes>"
      ]
     },
     "metadata": {
      "needs_background": "light"
     },
     "output_type": "display_data"
    }
   ],
   "source": [
    "kansas_rr_rest_words = '' \n",
    "\n",
    "for arg in kansas_rr_rest_df[\"NARR\"]: \n",
    "      \n",
    "    tokens = arg.split() \n",
    "      \n",
    "      \n",
    "    kansas_rr_rest_words += \" \".join(tokens)+\" \"\n",
    "\n",
    "wordcloud = WordCloud(width = 500, height = 500, \n",
    "                background_color ='white', \n",
    "                min_font_size = 10).generate(kansas_rr_rest_words) \n",
    "  \n",
    "# plot the WordCloud image                        \n",
    "plt.figure(figsize = (5, 5), facecolor = None) \n",
    "plt.imshow(wordcloud) \n",
    "plt.axis(\"off\") \n",
    "plt.tight_layout(pad = 0) \n",
    "  \n",
    "plt.show() "
   ]
  },
  {
   "cell_type": "code",
   "execution_count": 43,
   "metadata": {},
   "outputs": [
    {
     "name": "stdout",
     "output_type": "stream",
     "text": [
      "('kct', 'main') 3\n",
      "('mp', 'pittsburg') 3\n",
      "('pittsburg', 'subdivis') 3\n",
      "('car', 'track') 4\n",
      "('east', 'end') 3\n",
      "('equip', 'damag') 4\n",
      "('ran', 'switch') 3\n",
      "('rco', 'kck') 7\n",
      "('derail', 'railcar') 5\n",
      "('railcar', 'pull') 4\n",
      "('pull', 'yard') 4\n",
      "('yard', 'track') 9\n",
      "('hazard', 'materi') 6\n",
      "('materi', 'releas') 9\n",
      "('kck', 'railcar') 3\n",
      "('hump', 'retard') 3\n",
      "('result', 'railcar') 3\n",
      "('railcar', 'derail') 3\n",
      "('releas', 'rco') 3\n",
      "('track', 'track') 3\n"
     ]
    }
   ],
   "source": [
    "from nltk.util import ngrams\n",
    "n_gram = 2\n",
    "n_gram_dic = dict(Counter(ngrams(kansas_rr_rest_words.split(), n_gram)))\n",
    "\n",
    "for i in n_gram_dic:\n",
    "    if n_gram_dic[i] >= 3:\n",
    "        print(i, n_gram_dic[i])\n",
    "    "
   ]
  },
  {
   "cell_type": "markdown",
   "metadata": {},
   "source": [
    "Ok - it seems like UP has a derailment problem where wagons are getting off track. although there are fewer incidents in the other dataframe, the word \"derailment\" only comes up 11 times compared to 39 in the UP one. However, the bigram \"hazardous material\" and \"material released\" comes up a lot, so lets actually have a peak at the actual data to make sure we make the right conclusions"
   ]
  },
  {
   "cell_type": "code",
   "execution_count": null,
   "metadata": {},
   "outputs": [],
   "source": []
  },
  {
   "cell_type": "code",
   "execution_count": 44,
   "metadata": {},
   "outputs": [
    {
     "name": "stdout",
     "output_type": "stream",
     "text": [
      "CREW ON UP TRAIN MNPINP-19 USING KCT MAIN LINE AS HEAD ROOM TO SET OUT BAD ORDER IN UP ARMOURDALE YA RD, TRAIN PULLED EAST OUT OF ARMOURDALE INBOUND TO KCT MAIN 3.  CONDUCTOR MADE CUT AND INSTRUCTED EN GINEER TO PULL EAST TO CLEAR SWITCHES ON LEAD, ENGINEER BROUGHT TRAIN TO STOP USING INDEPENDENT BRAK E CAUSING BUFF FORCES IN THE TRAIN CAUSING MTNR175009 TO DERAIL ON KCT MAIN LINE.  KCT MAINTAINS TRA CK AND SIGNAL WITH DAMAGE OF $3900.  UP OWNS CONSIST WITH DAMAGE OF $7852.  #12 SUBDIVISION NAME IS LS 1001.\n",
      "\n",
      "CREW FAILED TO LINE BOTH ENDS OF CROSSOVER FROM WORK LEAD TO 901 & DID NOT PROTECT SHOVE THRU SWITCH RESULTING IN A RUN-THRU SWITCH & WHEN PULLED FORWARD THEY DERAILED.  MP 2.5 PITTSBURG SUBDIVISION\n",
      "\n",
      "CPRS CREW FAILED TO SECURE TRACK 9 & THEY KICKED CARS INTO TRACK 9 & CARS ROLLED OUT THE EAST END & DAMAGED 2 CARS. CPRS CONSIST INCLUDED 2 KCS CARS WITH EQUIP DAMAGE OF $36,000.  MP 4 PITTSBURG SUB\n",
      "\n",
      "BNSF CREW RAN THRU 126 SWITCH & THEN SHOVED BACK THRU & DERAILED 2 CARS.  BNSF EQUIP DAMAGE $2,746 M P 3 PITTSBURG SUBDIVISION\n",
      "\n",
      "RCO Y-KCK3012-13 DERAILED 9 RAILCARS WHILE PULLING INTO YARD TRACK 6097 DUE TO A PREVIOUSLY RUN THRO UGH SWITCH. NO HAZARDOUS MATERIALS WERE RELEASED.\n",
      "\n",
      "FOREIGN TRAIN F-NS 1121-10 DERAILED 2 RAILCARS WHILE PULLING INTO YARD TRACK 6012 DUE TO A SPRING/PO WER SWITCH MECHANISM MALFUNCTION. NO HAZARDOUS MATERIALS WERE RELEASED.\n",
      "\n",
      "Y-KCK311-1-25A TRAIN RAN THROUGH SWITCH DUE TO FAILURE TO COMPLY WITH RESTRICTED SPEED OR ITS EQUIVA LENT NOT IN CONNECTION WITH A BLOCK OR INTERLOCKING SIGNAL AND SWITCH IMPROPERLY LINED.  NO HAZMAT R ELEASED.\n",
      "\n"
     ]
    }
   ],
   "source": [
    "\n",
    "#because we already preprocessed the incident texts in the UP and Rest dataframes above, \n",
    "#we need to create a new one where it is not preprocessed so we can read the raw text\n",
    "kansas_raw_rest = kansas_df[kansas_df['RAILROAD'] != \"UP\"]\n",
    "kansas_raw_rest_list = kansas_raw_rest['NARR'].tolist()\n",
    "\n",
    "\n",
    "for g in kansas_raw_rest_list[:7]:\n",
    "    print(g)\n",
    "    print()"
   ]
  },
  {
   "cell_type": "markdown",
   "metadata": {},
   "source": [
    "### NO Hazardous materials \n",
    "Aha - we see that the other railroads have a different style or reporting. They report if no hazardous materials were released. Since \"no\" is a stopword, it was daleted from the text and one could draw the wrong conclusion that because \"hazardous materials\" comes up often - that it might be an issue and hence reported. But infact the opposite is the case\n",
    "\n"
   ]
  },
  {
   "cell_type": "code",
   "execution_count": 45,
   "metadata": {},
   "outputs": [
    {
     "data": {
      "text/plain": [
       "<matplotlib.axes._subplots.AxesSubplot at 0x7fba718fae50>"
      ]
     },
     "execution_count": 45,
     "metadata": {},
     "output_type": "execute_result"
    },
    {
     "data": {
      "image/png": "[encoded data removed]",
      "text/plain": [
       "<Figure size 432x288 with 1 Axes>"
      ]
     },
     "metadata": {
      "needs_background": "light"
     },
     "output_type": "display_data"
    }
   ],
   "source": [
    "#let's check the month with the most incidents\n",
    "kansas_df['IMO'].value_counts().plot.bar()"
   ]
  },
  {
   "cell_type": "markdown",
   "metadata": {},
   "source": [
    "### Fun fact - August 2019\n",
    "https://apnews.com/8f3be8700efc4a488fafc6e0d8a564f7\n",
    "so apparently there were strong winds in Kansas in August 2019 and caused the derailment of over 140 cars"
   ]
  },
  {
   "cell_type": "markdown",
   "metadata": {},
   "source": [
    "## Preprocessing and key word analysis of whole dataset\n",
    "Ok - I am not a railroad expert so any conclusions I have drawn above may be completely wrong. I just wanted to take one city as an example and show you how to plot some graphs and do some basic text preprocessing. Let's try the same with the whole dataset"
   ]
  },
  {
   "cell_type": "code",
   "execution_count": 46,
   "metadata": {},
   "outputs": [],
   "source": [
    "prep_data = raw_data_df['NARR'].apply(preprocess)"
   ]
  },
  {
   "cell_type": "code",
   "execution_count": 47,
   "metadata": {},
   "outputs": [],
   "source": [
    "#lets create a column for the preprocessed data and store the original text in NARR\n",
    "raw_data_df['PREP'] = prep_data "
   ]
  },
  {
   "cell_type": "code",
   "execution_count": 48,
   "metadata": {},
   "outputs": [
    {
     "data": {
      "text/html": [
       "<div>\n",
       "<style scoped>\n",
       "    .dataframe tbody tr th:only-of-type {\n",
       "        vertical-align: middle;\n",
       "    }\n",
       "\n",
       "    .dataframe tbody tr th {\n",
       "        vertical-align: top;\n",
       "    }\n",
       "\n",
       "    .dataframe thead th {\n",
       "        text-align: right;\n",
       "    }\n",
       "</style>\n",
       "<table border=\"1\" class=\"dataframe\">\n",
       "  <thead>\n",
       "    <tr style=\"text-align: right;\">\n",
       "      <th></th>\n",
       "      <th>IYR</th>\n",
       "      <th>IMO</th>\n",
       "      <th>RAILROAD</th>\n",
       "      <th>STATE</th>\n",
       "      <th>STATION</th>\n",
       "      <th>COUNTY</th>\n",
       "      <th>NARR</th>\n",
       "      <th>PREP</th>\n",
       "    </tr>\n",
       "  </thead>\n",
       "  <tbody>\n",
       "    <tr>\n",
       "      <th>0</th>\n",
       "      <td>19</td>\n",
       "      <td>11</td>\n",
       "      <td>ATK</td>\n",
       "      <td>6</td>\n",
       "      <td>CASTROVILLE</td>\n",
       "      <td>MONTEREY</td>\n",
       "      <td>CAMERA-EQUIPPED TRAIN 14 STRUCK AN OCCUPIED SA...</td>\n",
       "      <td>camera equip train struck occupi sanit truck m...</td>\n",
       "    </tr>\n",
       "    <tr>\n",
       "      <th>1</th>\n",
       "      <td>19</td>\n",
       "      <td>10</td>\n",
       "      <td>MNCW</td>\n",
       "      <td>9</td>\n",
       "      <td>NORWALK</td>\n",
       "      <td>FAIRFIELD</td>\n",
       "      <td>PRODUCTION GANG, TRAVELING NORTH WITH 22 PIECE...</td>\n",
       "      <td>product gang travel north piec equip seper pie...</td>\n",
       "    </tr>\n",
       "    <tr>\n",
       "      <th>2</th>\n",
       "      <td>19</td>\n",
       "      <td>4</td>\n",
       "      <td>FEC</td>\n",
       "      <td>12</td>\n",
       "      <td>POMPANO BEACH</td>\n",
       "      <td>BROWARD</td>\n",
       "      <td>BLF 604 WAS TRAVELING SOUTHBOUND ON EAST MAIN ...</td>\n",
       "      <td>blf travel southbound east main approxim mph n...</td>\n",
       "    </tr>\n",
       "    <tr>\n",
       "      <th>3</th>\n",
       "      <td>19</td>\n",
       "      <td>4</td>\n",
       "      <td>FEC</td>\n",
       "      <td>12</td>\n",
       "      <td>POMPANO BEACH</td>\n",
       "      <td>BROWARD</td>\n",
       "      <td>BLF 606 WAS TRAVELING SOUTHBOUND ON EAST MAIN ...</td>\n",
       "      <td>blf travel southbound east main notic vehicl f...</td>\n",
       "    </tr>\n",
       "    <tr>\n",
       "      <th>4</th>\n",
       "      <td>19</td>\n",
       "      <td>4</td>\n",
       "      <td>CSX</td>\n",
       "      <td>12</td>\n",
       "      <td>SEVILLE</td>\n",
       "      <td>VOLUSIA</td>\n",
       "      <td>AMTRAK P09811 STRUCK SEMI AT PRIVATE CROSSING.</td>\n",
       "      <td>amtrak struck semi privat cross</td>\n",
       "    </tr>\n",
       "  </tbody>\n",
       "</table>\n",
       "</div>"
      ],
      "text/plain": [
       "   IYR  IMO RAILROAD  STATE        STATION     COUNTY  \\\n",
       "0   19   11      ATK      6    CASTROVILLE   MONTEREY   \n",
       "1   19   10     MNCW      9        NORWALK  FAIRFIELD   \n",
       "2   19    4      FEC     12  POMPANO BEACH    BROWARD   \n",
       "3   19    4      FEC     12  POMPANO BEACH    BROWARD   \n",
       "4   19    4      CSX     12        SEVILLE    VOLUSIA   \n",
       "\n",
       "                                                NARR  \\\n",
       "0  CAMERA-EQUIPPED TRAIN 14 STRUCK AN OCCUPIED SA...   \n",
       "1  PRODUCTION GANG, TRAVELING NORTH WITH 22 PIECE...   \n",
       "2  BLF 604 WAS TRAVELING SOUTHBOUND ON EAST MAIN ...   \n",
       "3  BLF 606 WAS TRAVELING SOUTHBOUND ON EAST MAIN ...   \n",
       "4     AMTRAK P09811 STRUCK SEMI AT PRIVATE CROSSING.   \n",
       "\n",
       "                                                PREP  \n",
       "0  camera equip train struck occupi sanit truck m...  \n",
       "1  product gang travel north piec equip seper pie...  \n",
       "2  blf travel southbound east main approxim mph n...  \n",
       "3  blf travel southbound east main notic vehicl f...  \n",
       "4                    amtrak struck semi privat cross  "
      ]
     },
     "execution_count": 48,
     "metadata": {},
     "output_type": "execute_result"
    }
   ],
   "source": [
    "raw_data_df.head()"
   ]
  },
  {
   "cell_type": "code",
   "execution_count": 49,
   "metadata": {},
   "outputs": [
    {
     "data": {
      "text/plain": [
       "[('car', 2640),\n",
       " ('derail', 2167),\n",
       " ('track', 2070),\n",
       " ('train', 1314),\n",
       " ('switch', 977),\n",
       " ('shove', 748),\n",
       " ('damag', 705),\n",
       " ('yard', 680),\n",
       " ('pull', 667),\n",
       " ('crew', 628),\n",
       " ('locomot', 594),\n",
       " ('lead', 559),\n",
       " ('caus', 474),\n",
       " ('engin', 458),\n",
       " ('end', 449),\n",
       " ('line', 441),\n",
       " ('railcar', 438),\n",
       " ('rail', 427),\n",
       " ('releas', 423),\n",
       " ('cross', 404)]"
      ]
     },
     "execution_count": 49,
     "metadata": {},
     "output_type": "execute_result"
    }
   ],
   "source": [
    "Counter(\" \".join(raw_data_df[\"PREP\"]).split()).most_common(20)"
   ]
  },
  {
   "cell_type": "code",
   "execution_count": 50,
   "metadata": {},
   "outputs": [
    {
     "data": {
      "image/png": "[encoded data removed]",
      "text/plain": [
       "<Figure size 360x360 with 1 Axes>"
      ]
     },
     "metadata": {
      "needs_background": "light"
     },
     "output_type": "display_data"
    }
   ],
   "source": [
    "all_words = '' \n",
    "\n",
    "for arg in raw_data_df[\"PREP\"]: \n",
    "      \n",
    "    tokens = arg.split() \n",
    "      \n",
    "      \n",
    "    all_words += \" \".join(tokens)+\" \"\n",
    "\n",
    "wordcloud = WordCloud(width = 500, height = 500, \n",
    "                background_color ='white', \n",
    "                min_font_size = 10).generate(all_words) \n",
    "  \n",
    "# plot the WordCloud image                        \n",
    "plt.figure(figsize = (5, 5), facecolor = None) \n",
    "plt.imshow(wordcloud) \n",
    "plt.axis(\"off\") \n",
    "plt.tight_layout(pad = 0) \n",
    "  \n",
    "plt.show()"
   ]
  },
  {
   "cell_type": "code",
   "execution_count": 51,
   "metadata": {},
   "outputs": [
    {
     "name": "stdout",
     "output_type": "stream",
     "text": [
      "('train', 'struck') 58\n",
      "('train', 'emerg') 93\n",
      "('main', 'track') 130\n",
      "('line', 'switch') 136\n",
      "('crew', 'shove') 58\n",
      "('shove', 'yard') 78\n",
      "('car', 'derail') 368\n",
      "('derail', 'car') 372\n",
      "('set', 'truck') 58\n",
      "('derail', 'railcar') 236\n",
      "('railcar', 'shove') 63\n",
      "('hazard', 'materi') 303\n",
      "('materi', 'releas') 310\n",
      "('lead', 'locomot') 145\n",
      "('locomot', 'car') 63\n",
      "('car', 'track') 139\n",
      "('caus', 'damag') 55\n",
      "('yard', 'track') 266\n",
      "('improperli', 'line') 119\n",
      "('shove', 'move') 63\n",
      "('turn', 'run') 57\n",
      "('switch', 'hazard') 55\n",
      "('train', 'oper') 68\n",
      "('track', 'car') 74\n",
      "('train', 'derail') 67\n",
      "('track', 'failur') 58\n",
      "('crew', 'pull') 53\n",
      "('east', 'end') 61\n",
      "('derail', 'locomot') 80\n",
      "('broken', 'rail') 75\n",
      "('result', 'derail') 54\n",
      "('cut', 'car') 116\n",
      "('car', 'roll') 50\n",
      "('equip', 'damag') 89\n",
      "('ns', 'train') 85\n",
      "('shove', 'back') 52\n",
      "('track', 'damag') 141\n",
      "('caus', 'car') 85\n",
      "('west', 'end') 76\n",
      "('track', 'switch') 61\n",
      "('track', 'derail') 86\n",
      "('switch', 'point') 58\n",
      "('maintain', 'track') 56\n",
      "('derail', 'track') 54\n",
      "('track', 'track') 90\n",
      "('shove', 'track') 52\n",
      "('railcar', 'pull') 74\n",
      "('pull', 'yard') 80\n",
      "('shove', 'car') 64\n",
      "('car', 'train') 55\n",
      "('load', 'empti') 61\n",
      "('singl', 'main') 53\n"
     ]
    }
   ],
   "source": [
    "\n",
    "n_gram = 2\n",
    "n_gram_dic = dict(Counter(ngrams(all_words.split(), n_gram)))\n",
    "\n",
    "for i in n_gram_dic:\n",
    "    if n_gram_dic[i] >= 50:\n",
    "        print(i, n_gram_dic[i])"
   ]
  },
  {
   "cell_type": "markdown",
   "metadata": {},
   "source": [
    "## Derailing and Hazardous Materials\n",
    "Ok, derailing is no doubt the most commin incident, followed by train strike. I want to label the rows where derailing occured and those were the train strucked something. I further want to check whether hazardous material was released and/or whether anything was damaged - negation will be an issue (eg. no hazardous materials were released, nothing was damaged). I also want to extract the damage cost so we can have a look at regular expressions"
   ]
  },
  {
   "cell_type": "markdown",
   "metadata": {},
   "source": []
  },
  {
   "cell_type": "code",
   "execution_count": 52,
   "metadata": {},
   "outputs": [],
   "source": [
    "# storing the words in a list, in case I want to add any later\n",
    "derail_words = ['derail']\n",
    "struck_words = ['struck']\n",
    "\n",
    "\n",
    "#checking whether any of the words appear in the incident text and store \"true\" or \"false\" in columns DERAIL and STRUCk\n",
    "raw_data_df['DERAIL'] = raw_data_df['PREP'].apply(lambda x: any([k in x for k in derail_words]))\n",
    "raw_data_df['STRUCK'] = raw_data_df['PREP'].apply(lambda x: any([k in x for k in struck_words]))"
   ]
  },
  {
   "cell_type": "code",
   "execution_count": 53,
   "metadata": {},
   "outputs": [
    {
     "data": {
      "text/html": [
       "<div>\n",
       "<style scoped>\n",
       "    .dataframe tbody tr th:only-of-type {\n",
       "        vertical-align: middle;\n",
       "    }\n",
       "\n",
       "    .dataframe tbody tr th {\n",
       "        vertical-align: top;\n",
       "    }\n",
       "\n",
       "    .dataframe thead th {\n",
       "        text-align: right;\n",
       "    }\n",
       "</style>\n",
       "<table border=\"1\" class=\"dataframe\">\n",
       "  <thead>\n",
       "    <tr style=\"text-align: right;\">\n",
       "      <th></th>\n",
       "      <th>IYR</th>\n",
       "      <th>IMO</th>\n",
       "      <th>RAILROAD</th>\n",
       "      <th>STATE</th>\n",
       "      <th>STATION</th>\n",
       "      <th>COUNTY</th>\n",
       "      <th>NARR</th>\n",
       "      <th>PREP</th>\n",
       "      <th>DERAIL</th>\n",
       "      <th>STRUCK</th>\n",
       "    </tr>\n",
       "  </thead>\n",
       "  <tbody>\n",
       "    <tr>\n",
       "      <th>0</th>\n",
       "      <td>19</td>\n",
       "      <td>11</td>\n",
       "      <td>ATK</td>\n",
       "      <td>6</td>\n",
       "      <td>CASTROVILLE</td>\n",
       "      <td>MONTEREY</td>\n",
       "      <td>CAMERA-EQUIPPED TRAIN 14 STRUCK AN OCCUPIED SA...</td>\n",
       "      <td>camera equip train struck occupi sanit truck m...</td>\n",
       "      <td>False</td>\n",
       "      <td>True</td>\n",
       "    </tr>\n",
       "    <tr>\n",
       "      <th>1</th>\n",
       "      <td>19</td>\n",
       "      <td>10</td>\n",
       "      <td>MNCW</td>\n",
       "      <td>9</td>\n",
       "      <td>NORWALK</td>\n",
       "      <td>FAIRFIELD</td>\n",
       "      <td>PRODUCTION GANG, TRAVELING NORTH WITH 22 PIECE...</td>\n",
       "      <td>product gang travel north piec equip seper pie...</td>\n",
       "      <td>False</td>\n",
       "      <td>False</td>\n",
       "    </tr>\n",
       "    <tr>\n",
       "      <th>2</th>\n",
       "      <td>19</td>\n",
       "      <td>4</td>\n",
       "      <td>FEC</td>\n",
       "      <td>12</td>\n",
       "      <td>POMPANO BEACH</td>\n",
       "      <td>BROWARD</td>\n",
       "      <td>BLF 604 WAS TRAVELING SOUTHBOUND ON EAST MAIN ...</td>\n",
       "      <td>blf travel southbound east main approxim mph n...</td>\n",
       "      <td>False</td>\n",
       "      <td>True</td>\n",
       "    </tr>\n",
       "    <tr>\n",
       "      <th>3</th>\n",
       "      <td>19</td>\n",
       "      <td>4</td>\n",
       "      <td>FEC</td>\n",
       "      <td>12</td>\n",
       "      <td>POMPANO BEACH</td>\n",
       "      <td>BROWARD</td>\n",
       "      <td>BLF 606 WAS TRAVELING SOUTHBOUND ON EAST MAIN ...</td>\n",
       "      <td>blf travel southbound east main notic vehicl f...</td>\n",
       "      <td>False</td>\n",
       "      <td>True</td>\n",
       "    </tr>\n",
       "    <tr>\n",
       "      <th>4</th>\n",
       "      <td>19</td>\n",
       "      <td>4</td>\n",
       "      <td>CSX</td>\n",
       "      <td>12</td>\n",
       "      <td>SEVILLE</td>\n",
       "      <td>VOLUSIA</td>\n",
       "      <td>AMTRAK P09811 STRUCK SEMI AT PRIVATE CROSSING.</td>\n",
       "      <td>amtrak struck semi privat cross</td>\n",
       "      <td>False</td>\n",
       "      <td>True</td>\n",
       "    </tr>\n",
       "    <tr>\n",
       "      <th>...</th>\n",
       "      <td>...</td>\n",
       "      <td>...</td>\n",
       "      <td>...</td>\n",
       "      <td>...</td>\n",
       "      <td>...</td>\n",
       "      <td>...</td>\n",
       "      <td>...</td>\n",
       "      <td>...</td>\n",
       "      <td>...</td>\n",
       "      <td>...</td>\n",
       "    </tr>\n",
       "    <tr>\n",
       "      <th>2679</th>\n",
       "      <td>19</td>\n",
       "      <td>2</td>\n",
       "      <td>TRC</td>\n",
       "      <td>6</td>\n",
       "      <td>TRONA</td>\n",
       "      <td>SAN BERNARDINO</td>\n",
       "      <td>RUN 2 WAS IN THE PROCESS OF PULLING THE HEAD 1...</td>\n",
       "      <td>run process pull head load saltspur track trc ...</td>\n",
       "      <td>True</td>\n",
       "      <td>False</td>\n",
       "    </tr>\n",
       "    <tr>\n",
       "      <th>2680</th>\n",
       "      <td>19</td>\n",
       "      <td>2</td>\n",
       "      <td>NCTC</td>\n",
       "      <td>6</td>\n",
       "      <td>OCEANSIDE</td>\n",
       "      <td>SAN DIEGO</td>\n",
       "      <td>METROLINK 858 DERAILED AT STUART MESA YARD.</td>\n",
       "      <td>metrolink derail stuart mesa yard</td>\n",
       "      <td>True</td>\n",
       "      <td>False</td>\n",
       "    </tr>\n",
       "    <tr>\n",
       "      <th>2681</th>\n",
       "      <td>19</td>\n",
       "      <td>1</td>\n",
       "      <td>MET</td>\n",
       "      <td>6</td>\n",
       "      <td>MODESTO</td>\n",
       "      <td>STANISLAUS</td>\n",
       "      <td>ON THE MORNING OF JANUARY 15, 2019, CONDUCTOR ...</td>\n",
       "      <td>morn januari conductor switch car industri set...</td>\n",
       "      <td>False</td>\n",
       "      <td>False</td>\n",
       "    </tr>\n",
       "    <tr>\n",
       "      <th>2682</th>\n",
       "      <td>19</td>\n",
       "      <td>7</td>\n",
       "      <td>BNSF</td>\n",
       "      <td>6</td>\n",
       "      <td>BAKERSFIELD</td>\n",
       "      <td>KERN</td>\n",
       "      <td>EMPLOYEE STOPPED AND LINED THE DERAIL TO THE W...</td>\n",
       "      <td>employe stop line derail work posit pull locom...</td>\n",
       "      <td>True</td>\n",
       "      <td>False</td>\n",
       "    </tr>\n",
       "    <tr>\n",
       "      <th>2683</th>\n",
       "      <td>19</td>\n",
       "      <td>12</td>\n",
       "      <td>UP</td>\n",
       "      <td>6</td>\n",
       "      <td>BLOOMINGTON</td>\n",
       "      <td>SAN BERNARDINO</td>\n",
       "      <td>LOQ25-26 WAS MAKING A SHOVING MOVE WITH LIGHT ...</td>\n",
       "      <td>loq make shove move light locomot track conduc...</td>\n",
       "      <td>True</td>\n",
       "      <td>False</td>\n",
       "    </tr>\n",
       "  </tbody>\n",
       "</table>\n",
       "<p>2401 rows × 10 columns</p>\n",
       "</div>"
      ],
      "text/plain": [
       "      IYR  IMO RAILROAD  STATE        STATION          COUNTY  \\\n",
       "0      19   11      ATK      6    CASTROVILLE        MONTEREY   \n",
       "1      19   10     MNCW      9        NORWALK       FAIRFIELD   \n",
       "2      19    4      FEC     12  POMPANO BEACH         BROWARD   \n",
       "3      19    4      FEC     12  POMPANO BEACH         BROWARD   \n",
       "4      19    4      CSX     12        SEVILLE         VOLUSIA   \n",
       "...   ...  ...      ...    ...            ...             ...   \n",
       "2679   19    2      TRC      6          TRONA  SAN BERNARDINO   \n",
       "2680   19    2     NCTC      6      OCEANSIDE       SAN DIEGO   \n",
       "2681   19    1      MET      6        MODESTO      STANISLAUS   \n",
       "2682   19    7     BNSF      6    BAKERSFIELD            KERN   \n",
       "2683   19   12       UP      6    BLOOMINGTON  SAN BERNARDINO   \n",
       "\n",
       "                                                   NARR  \\\n",
       "0     CAMERA-EQUIPPED TRAIN 14 STRUCK AN OCCUPIED SA...   \n",
       "1     PRODUCTION GANG, TRAVELING NORTH WITH 22 PIECE...   \n",
       "2     BLF 604 WAS TRAVELING SOUTHBOUND ON EAST MAIN ...   \n",
       "3     BLF 606 WAS TRAVELING SOUTHBOUND ON EAST MAIN ...   \n",
       "4        AMTRAK P09811 STRUCK SEMI AT PRIVATE CROSSING.   \n",
       "...                                                 ...   \n",
       "2679  RUN 2 WAS IN THE PROCESS OF PULLING THE HEAD 1...   \n",
       "2680        METROLINK 858 DERAILED AT STUART MESA YARD.   \n",
       "2681  ON THE MORNING OF JANUARY 15, 2019, CONDUCTOR ...   \n",
       "2682  EMPLOYEE STOPPED AND LINED THE DERAIL TO THE W...   \n",
       "2683  LOQ25-26 WAS MAKING A SHOVING MOVE WITH LIGHT ...   \n",
       "\n",
       "                                                   PREP  DERAIL  STRUCK  \n",
       "0     camera equip train struck occupi sanit truck m...   False    True  \n",
       "1     product gang travel north piec equip seper pie...   False   False  \n",
       "2     blf travel southbound east main approxim mph n...   False    True  \n",
       "3     blf travel southbound east main notic vehicl f...   False    True  \n",
       "4                       amtrak struck semi privat cross   False    True  \n",
       "...                                                 ...     ...     ...  \n",
       "2679  run process pull head load saltspur track trc ...    True   False  \n",
       "2680                  metrolink derail stuart mesa yard    True   False  \n",
       "2681  morn januari conductor switch car industri set...   False   False  \n",
       "2682  employe stop line derail work posit pull locom...    True   False  \n",
       "2683  loq make shove move light locomot track conduc...    True   False  \n",
       "\n",
       "[2401 rows x 10 columns]"
      ]
     },
     "execution_count": 53,
     "metadata": {},
     "output_type": "execute_result"
    }
   ],
   "source": [
    "raw_data_df"
   ]
  },
  {
   "cell_type": "code",
   "execution_count": 54,
   "metadata": {},
   "outputs": [],
   "source": [
    "# if no derailing and no striking occured, label OTHER as true\n",
    "raw_data_df['OTHER'] = (raw_data_df['DERAIL'] == False) & (raw_data_df['STRUCK'] == False)"
   ]
  },
  {
   "cell_type": "markdown",
   "metadata": {},
   "source": [
    "## Negation\n",
    "Negation is a complex problem. What he have done so far is simple text preprocessing and analysis. Checking for negation involves dependency parsing and relationship extraction. However, judging so far the incident texts are quite simple so we might be able to get some good results with easier techniques. Let's try out these first!\n",
    "\n",
    "\n",
    "Examples:\n",
    "No Hazardous materials were released - check for bigram \"No hazardous\" and we know its a negation\n",
    "No train damage - that's already more difficult. What if instead of \"train\" we have another word?"
   ]
  },
  {
   "cell_type": "code",
   "execution_count": 55,
   "metadata": {},
   "outputs": [],
   "source": [
    "#lets take the NARR column and create a list of sentences "
   ]
  },
  {
   "cell_type": "code",
   "execution_count": 56,
   "metadata": {},
   "outputs": [],
   "source": [
    "all_narr_list = raw_data_df['NARR'].tolist()"
   ]
  },
  {
   "cell_type": "code",
   "execution_count": 57,
   "metadata": {},
   "outputs": [
    {
     "data": {
      "text/plain": [
       "['CAMERA-EQUIPPED TRAIN 14 STRUCK AN OCCUPIED SANITATION TRUCK AT MP 110.68, A PRIVATE RD CROSSING.  T HE OCCUPANT OF THE VEHICLE WAS A CONFIRMED FATALITY.',\n",
       " 'PRODUCTION GANG, TRAVELING NORTH WITH 22 PIECES OF EQUIPMENT, HAD 7 SEPERATE PIECES OF EQUIPMENT MAK E IMPACT WITH ONE ANOTHER.',\n",
       " 'BLF 604 WAS TRAVELING SOUTHBOUND ON EAST MAIN AT APPROXIMATELY 79 MPH AND NOTICED A TRESPASSER COMIN G ACROSS THE TRACKS WITH HIS BIKE FROM THE WEST SIDE OF THE TRACKS TO THE EAST SIDE OF THE TRACKS. LOCOMOTIVE ENGINEER SOUNDED HORN AND BELL TO WARN TRESPASSER AND PLACED TRAIN INTO EMERGENCY.  TRESP ASSER WAS STRUCK RESULTING IN A FATALITY.  BLF COSTS WERE $15325.',\n",
       " 'BLF 606 WAS TRAVELING SOUTHBOUND ON EAST MAIN AND NOTICED A VEHICLE FOULING HAMMONDVILLE ROAD.  LOCO MOTIVE ENGINEER SOUNDED HORN AND BELL AND PLACED TRAIN IN EMERGENCY.  TRAIN STRUCK VEHICLE AND PASSE NGERS IN VEHICLE WERE TRANSPORTED TO LOCAL HOSPITAL WITH MINOR INJURIES.  BLF COSTS WERE $10793.',\n",
       " 'AMTRAK P09811 STRUCK SEMI AT PRIVATE CROSSING.']"
      ]
     },
     "execution_count": 57,
     "metadata": {},
     "output_type": "execute_result"
    }
   ],
   "source": [
    "all_narr_list[:5]"
   ]
  },
  {
   "cell_type": "code",
   "execution_count": 58,
   "metadata": {},
   "outputs": [
    {
     "name": "stdout",
     "output_type": "stream",
     "text": [
      "[('Dummy', 'sentence'), ('sentence', 'to'), ('to', 'demonstrate'), ('demonstrate', 'bigrams')]\n",
      "[('Dummy', 'sentence', 'to'), ('sentence', 'to', 'demonstrate'), ('to', 'demonstrate', 'bigrams')]\n"
     ]
    }
   ],
   "source": [
    "from nltk import word_tokenize, bigrams, trigrams\n",
    "\n",
    "\n",
    "word_data = \"Dummy sentence to demonstrate bigrams\"\n",
    "nltk_tokens = word_tokenize(word_data) \n",
    "#using tokenize from NLKT and not split() because split() does not take into account punctuation\n",
    "\n",
    "print(list(bigrams(nltk_tokens)))\n",
    "print(list(trigrams(nltk_tokens)))"
   ]
  },
  {
   "cell_type": "code",
   "execution_count": 59,
   "metadata": {},
   "outputs": [],
   "source": [
    "# looping through all the incident texts and storing the bigrams and trigrams in separate lists\n",
    "all_narr_bigrams = []\n",
    "all_narr_trigrams = []\n",
    "\n",
    "for narr in all_narr_list:\n",
    "    narr = word_tokenize(narr)\n",
    "    all_narr_bigrams.append(list(bigrams(narr)))\n",
    "    all_narr_trigrams.append(list(trigrams(narr)))\n",
    "    "
   ]
  },
  {
   "cell_type": "code",
   "execution_count": 60,
   "metadata": {},
   "outputs": [
    {
     "data": {
      "text/plain": [
       "[('CAMERA-EQUIPPED', 'TRAIN'),\n",
       " ('TRAIN', '14'),\n",
       " ('14', 'STRUCK'),\n",
       " ('STRUCK', 'AN'),\n",
       " ('AN', 'OCCUPIED'),\n",
       " ('OCCUPIED', 'SANITATION'),\n",
       " ('SANITATION', 'TRUCK'),\n",
       " ('TRUCK', 'AT'),\n",
       " ('AT', 'MP'),\n",
       " ('MP', '110.68'),\n",
       " ('110.68', ','),\n",
       " (',', 'A'),\n",
       " ('A', 'PRIVATE'),\n",
       " ('PRIVATE', 'RD'),\n",
       " ('RD', 'CROSSING'),\n",
       " ('CROSSING', '.'),\n",
       " ('.', 'T'),\n",
       " ('T', 'HE'),\n",
       " ('HE', 'OCCUPANT'),\n",
       " ('OCCUPANT', 'OF'),\n",
       " ('OF', 'THE'),\n",
       " ('THE', 'VEHICLE'),\n",
       " ('VEHICLE', 'WAS'),\n",
       " ('WAS', 'A'),\n",
       " ('A', 'CONFIRMED'),\n",
       " ('CONFIRMED', 'FATALITY'),\n",
       " ('FATALITY', '.')]"
      ]
     },
     "execution_count": 60,
     "metadata": {},
     "output_type": "execute_result"
    }
   ],
   "source": [
    "# first incident text in bigrams\n",
    "all_narr_bigrams[0]"
   ]
  },
  {
   "cell_type": "code",
   "execution_count": 61,
   "metadata": {},
   "outputs": [
    {
     "name": "stdout",
     "output_type": "stream",
     "text": [
      "AMTRAK CALLED TO INFORM THAT THEY FOUND WHAT APPEARED TO BE DERAILMENT MARKS NEAR A TURNOUT.  CSO 1 REPORTED NOTHING OUT OF THE ORDINARY WITH THEIR TRAIN IN THAT AREA AND AFTER INSPECTING THE CARS BEI NG DELIVERED TO CSX FOUND THAT THE FICX 8735 MAY HAVE DERAILED BUT HAD NO DAMAGE AND WAS BEING SHIPP ED TO BE SCRAPPED.\n",
      "176\n",
      "YTU24R-29, IN AN ATTEMPT TO COUPLE THE UP4590 AND UP4509, THE DRAWBARS CROSSED CAUSING DAMAGE TO THE UP4590.  NO DERAILMENT AND NO DAMAGE TO THE UP4509.\n",
      "608\n",
      "TRAIN #X123 OPERATED IN ELECTRIC MODE DEPARTING HOBOKEN ENROUTE WEST ON TRACK #3 M&E AND DIVERTED ON TO TRACK 3 ML AT WEST END AND OPERATED OUT FROM UNDER T E WIRE CAUSING DAMAGE TO THE PANTOGRAPH ON E NGINE #4514. CONFIRMED NO DAMAGE TO CATENARY.\n",
      "948\n",
      "CLNA TRAIN 115-03 TRAVELING WESTBOUND DERAILED AT 2:50PM. A 2 FOOT SECTION OF RAIL HEAD BROKE UNDER REAR CAR OF TRAIN, DROPPING 1 WHEEL (R4) ON THE GROUND. CAR RODE THE BASE OF THE RAIL FOR 628 FEET U NTIL TRUCKS SLEWED ENOUGH TO CAUSE L4 WHEEL TO WALK OVER THE RAIL IT WAS RIDING ON. CAR TRAVELED 118 FEET UNTIL ROLLING ONTO ITS LEFT SIDE. CAR ROLLED FORCED THE CAR AHEAD OF IT OFF THE RAIL. CREW SHO WED NO SIGNS OR SYMPTOMS OF ALCOHOL/DRUG USE. NO DAMAGE OR SPILLAGE OF FUEL FROM EITHER LOCOMOTIVE I N CONSIST. 25 OTHER CARS IN TRAIN RECEIVED NO DAMAGE. 14 EMPTY HAZMAT CARS IN TRAIN (UN 2448 - SULFU R, MOLTEN) WERE NOT DERAILED AND RECEIVED NO DAMAGE.\n",
      "967\n",
      "ZMQG4-14, LEAD LOCOMOTIVE UP5382, STRUCK UNOCCUPIED VEHICLE FOULING MAIN TRACK 50 FEET SOUTH FROM TH E CROSSING AT MP 73.10 ON THE JOLIET SUB.  NO INJURIES.  NO DAMAGE TO THE LOCOMOTIVE.  OCCURRED 50 F EET FROM CROSSING.\n",
      "1109\n",
      "HOBOKEN EXTRA CREW OPERATED ENGINE #4517 WITH PANTOGAPH RAISED INTO UNELECTRIFIED TERRITORY WHILE AT TEMPTING TO FUEL VIA THE UNWIRED OLD WESTBOUND TRACK. CONFIRMED NO DAMAGE TO CATENARY.\n",
      "1248\n",
      "CAR DERAILED IN CROSSING AND SHOVED 5 CAR LENGTHS. TRUCKS CAME OUT FROM UNDER CAR. FOULED BNSF TRACK WITH CAR, CAUSING NO DAMAGE.\n",
      "1572\n",
      "AMT2-15 STRUCK AN EMPTY CEMENT TRUCK AT MP404.65, BEAUMONT SUB.  MINOR INJURIES TO DRIVER OF TRUCK A ND ONE PASSENGER WAS TRANSPORTED TO NORTHEAST HOSPITAL WITH SEIZURES/ANXIETY.  NO DAMAGE TO TRACK OR UPRR STRUCTURES.  SIGNIFICANT DAMAGE TO THE AMTK173.  ATK EQUIPMENT DAMAGE - $45,062\n",
      "1773\n",
      "UP'S MADIT TRAIN STRUCK A DUMP TRUCK AT MP446.1, NO DAMAGE REPORTED TO TRACKS OR CROSSINGS.\n",
      "2348\n"
     ]
    }
   ],
   "source": [
    "no_damage_bigrams = [('NO', 'DAMAGE')]\n",
    "index = 0\n",
    "\n",
    "for narr in all_narr_bigrams:\n",
    "    for bi in no_damage_bigrams:\n",
    "        if bi in narr:\n",
    "            print(all_narr_list[index])\n",
    "            print(index)\n",
    "    index += 1\n",
    "            "
   ]
  },
  {
   "cell_type": "markdown",
   "metadata": {},
   "source": [
    "We can see that there are no that many cases of no damage, and that some incidents specify that no damage occured to one thing but may have occured to something else. However, given we know the indexes, we can update them later manually."
   ]
  },
  {
   "cell_type": "code",
   "execution_count": 62,
   "metadata": {},
   "outputs": [],
   "source": [
    "no_damage_indexes = [176, 967, 1109, 1248, 1572, 2348]"
   ]
  },
  {
   "cell_type": "markdown",
   "metadata": {},
   "source": [
    "Now let's check for trigrams. This loop requires another nested for loop since we are only interested in the first and third word (NO and DAMAGE) "
   ]
  },
  {
   "cell_type": "code",
   "execution_count": 63,
   "metadata": {},
   "outputs": [
    {
     "name": "stdout",
     "output_type": "stream",
     "text": [
      "MSAFW-09 CREW WAS TRAVELING NORTH ON THE WACO SUB WHEN THEY WENT INTO UDE. THE CREW WAS TRAVELING AT 20 MPH WHEN DERAILMENT OCCURRED. IT WAS DETERMINED THAT THE ENGINEER HAD TOO MANY DYNAMIC BRAKES CU T IN ON THE LEAD LOCOMOTIVE OF CONSIST. THE EDBA ON THE CONSIST WAS 48.5 COMPARED TO A MAX ALLOWABLE OF 28. NO TRACK DAMAGE.\n",
      "299\n",
      "MAINTENANCE OF WAY WAS INSTRUCTED TO DUMP THE AIR ON DUMP ROCK CARS AT COBURN SO THEY COULD BE SCRAP ED.  DUE TO FROZEN MATERIAL IN THE CAR CAUSED BY WINTER WEATHER, INSTEAD OF THE MATERIAL DUMPING FRO M THE CAR, IT TIPPED THE ENTIRE CAR OVER AND OFF THE RAIL.  NO TRACK DAMAGE.\n",
      "536\n",
      "H02H030 WITH 7 LOADS AND 6 EMPTIES 698 TONS OPERATING NORTHBOUND FROM DUNDALK MARINE TERMINAL INTO B AYVIEW YARD ON THE PRESIDENTS STREET I.T. RECIEVED INSTRUCTIONS FROM THE BALTIMORE YARDMASTER TO ENT ER ON THE TRAPPE ROAD TRACK SUBSEQUENTLY STRIKINGOVERHEAD CSXT RAILWAY BRIDGE AND DAMAGING THE BRIDG E AS WELL AS 7 LOADED MULTILEVEL CARS. (NO LADING DAMAGE).\n",
      "977\n",
      "BK42-28 WAS IN THE PROCESS OF SWITCHING OUT TRACK #3 AT THE WEST END OF KNOCHE YARD WHEN THE CARS TH AT WERE SWITCHED INTO TRACK 9 HAD RUN THROUGH THE EAST END RESULTING IN A CORNERING INCIDENT.  BK42 SWITCHED 3 LOADED CARS INTO 9 TRACK MAKING A JOINT WITH TWO CARS AND STALLED.  THE FOREMAN THEN RELE ASED THE HANDBRAKE AND WATCHED THE 5 CARS ROLL INTO 9 TRACK.   BK42 THEN SWITCHED MORE LOADED CARS I NTO 9 TRACK AND WATCHED THE CARS CLEAR TO ENSURE THEY DID NOT STALL.  VALIDATED BY CAMERA SYSTEM THE 8 CARS CAUGHT UP COUPLING TO THE REMAINDER OF THE TRACK AND PUSHED THE CARS FOUL AT THE EAST END. UPON INCIDENT DRILL DOWN WITH THE CREW IT WAS DETERMINED THAT THE ASSIGNMENT FAILED TO VALIDATE THAT TRACK 9 WAS SUFFICIENTLY SECURED IN ACCORDANCE WITH GOI SECTION 4 ITEM 1.3 G, PRIOR TO COMMENCING S WITCHING OPERATION.  KCS CONFIRMS NO TRACK DAMAGE.\n",
      "1217\n",
      "YARD CREW #MM-06 OBSERVED BUFFER PLATE DAMAGE ON THE B-END OF CAR #6026 AND C-END OF CAR #6028 DURIN G SHOP MOVE WEST OF THE S&I BUILDING AS A RESULT OF ONE CAR HAVING MORE AIR REMAINING WHEN DRILLED A ND A REPORTED TRACK CONDITION AS A CONTRIBUTING FACTOR. CONFIRMED NO TRACK DAMAGE.\n",
      "1250\n",
      "LHX07-27 WAS PICKING UP TRACK 9 IN ROBINSON YARD TRACK 9 AND FOUND A LOAD OF FLAT STEEL LMIC7001 NOT SECURE AND SHIFTED INTO SOXX620851.  NO DERAILMENT AND NO TRACK DAMAGE.  INDUSTRY MAINTAINS TRACK\n",
      "1772\n",
      "AMTRAK TRAIN 763 WAS DAMAGED WHEN IT STRUCK A TREE THAT FELL ACROSS THE TRACKS FOULING THE UPRR RIGH T OF WAY.  NO TRACK DAMAGE.  AMTRAK EQUIPMENT DAMAGE = $43,311\n",
      "1913\n",
      "PROGRESSIVE RAIL CONDUCTOR LINED SWITCH UNDER LOCOMOTIVE.  WHEN THE LOCOMOTIVE PULLED AHEAD, IT RAN THROUGH THE SWITCH, CAUSING EXTENSIVE DAMAGE TO THE SWITCH.  NO DERAILMENT.  TERMINAL SWITCHING SERV ICES REPORTS NO EQUIPMENT DAMAGE.\n",
      "1981\n",
      "AMTRAK TRAIN 59 OPERATING ON IC'S MAIN LINE TRACK STRUCK A TREE AT MP 778.6 ON THE MCCOMB SUB CAUSIN G DAMAGE TO THEIR LEAD LOCOMOTIVE. THERE WAS NO TRACK DAMAGE. AMTRAK ADVISED EQUIPMENT COSTS OF $19, 119.39.\n",
      "2200\n"
     ]
    }
   ],
   "source": [
    "no_damage_trigrams = [('NO', 'whatever', 'DAMAGE')]\n",
    "index = 0\n",
    "\n",
    "for narr in all_narr_trigrams:\n",
    "    for tri in no_damage_trigrams:\n",
    "        for t in narr:\n",
    "            if t[0] == tri[0] and t[2] == tri[2]:\n",
    "                print(all_narr_list[index])\n",
    "                print(index)\n",
    "    index += 1"
   ]
  },
  {
   "cell_type": "markdown",
   "metadata": {},
   "source": [
    "Ok, we identified a few more - but again I did it manually and added the indexes to the list above"
   ]
  },
  {
   "cell_type": "code",
   "execution_count": 64,
   "metadata": {},
   "outputs": [],
   "source": [
    "no_damage_indexes.extend([299, 536, 977, 1217, 1740, 1772])"
   ]
  },
  {
   "cell_type": "markdown",
   "metadata": {},
   "source": [
    "So now we have a list of indexes for incident texts where no damage occured. Now we can loop through the incident texts and check whether the word \"damage\" is present and the index of that incident text is not in our \"no damage indexes\" list. This way we weill identify those incidents where real damage occured"
   ]
  },
  {
   "cell_type": "code",
   "execution_count": 65,
   "metadata": {},
   "outputs": [],
   "source": [
    "index = 0\n",
    "damage_indexes = []\n",
    "for narr in all_narr_list:  \n",
    "    n = word_tokenize(narr)\n",
    "    if ('DAMAGE' in n or 'DAMAGED' in n) and index not in no_damage_indexes:\n",
    "        #print(narr)\n",
    "        #print(index)\n",
    "        damage_indexes.append(index)\n",
    "    index +=1"
   ]
  },
  {
   "cell_type": "code",
   "execution_count": 66,
   "metadata": {},
   "outputs": [
    {
     "data": {
      "text/plain": [
       "394"
      ]
     },
     "execution_count": 66,
     "metadata": {},
     "output_type": "execute_result"
    }
   ],
   "source": [
    "len(damage_indexes)"
   ]
  },
  {
   "cell_type": "markdown",
   "metadata": {},
   "source": [
    "## Fixing No derailment\n",
    "\n",
    "Remember, above when we extracted key words we extracted \"derail\" and labeled the column \"Derailed\" as True?\n",
    "Now we know that some incidents report that NO derailment occured. We have not accounted for negation above, so we need to fix that\n",
    "\n"
   ]
  },
  {
   "cell_type": "code",
   "execution_count": 73,
   "metadata": {},
   "outputs": [],
   "source": [
    "no_derail_bigram = [('NO', 'DERAILMENT'), ('NOT', 'DERAILED')]\n",
    "index = 0\n",
    "no_derail_indexes = []\n",
    "\n",
    "for narr in all_narr_bigrams:  \n",
    "    for bi in no_derail_bigram:\n",
    "        if bi in narr:\n",
    "            #print(all_narr_list[index])\n",
    "            #print(index)\n",
    "            no_derail_indexes.append(index)\n",
    "    index += 1\n",
    "            "
   ]
  },
  {
   "cell_type": "code",
   "execution_count": 74,
   "metadata": {},
   "outputs": [
    {
     "data": {
      "text/plain": [
       "86"
      ]
     },
     "execution_count": 74,
     "metadata": {},
     "output_type": "execute_result"
    }
   ],
   "source": [
    "len(no_derail_indexes)"
   ]
  },
  {
   "cell_type": "markdown",
   "metadata": {},
   "source": [
    "## Hazardous materials\n",
    "now we want to do the same as above but with hazardous materials\n",
    "\n",
    "Code will throw error - use all_narr_bigrams for now"
   ]
  },
  {
   "cell_type": "code",
   "execution_count": 86,
   "metadata": {},
   "outputs": [],
   "source": [
    "no_hazard_bigrams = [('NO', 'HAZARDOUS'), ('NO', 'HAZMAT'), ('NO', 'LEAKS'), ('O', 'HAZMAT'), ('O', 'HAZARDOUS')] #<<- insert  ('NO', 'LEAKS'),('O', 'HAZMAT'), ('O', 'HAZARDOUS') here\n",
    "index = 0\n",
    "no_hazmat_indexes = []\n",
    "\n",
    "for narr in all_narr_bigrams:   \n",
    "    for bi in no_hazard_bigrams:\n",
    "        if bi in narr:\n",
    "            #print(all_narr_list[index])\n",
    "            #print(index)\n",
    "            no_hazmat_indexes.append(index)\n",
    "    index += 1\n",
    "            "
   ]
  },
  {
   "cell_type": "code",
   "execution_count": 87,
   "metadata": {},
   "outputs": [
    {
     "data": {
      "text/plain": [
       "352"
      ]
     },
     "execution_count": 87,
     "metadata": {},
     "output_type": "execute_result"
    }
   ],
   "source": [
    "len(no_hazmat_indexes)"
   ]
  },
  {
   "cell_type": "markdown",
   "metadata": {},
   "source": [
    "Let's print put the incident texts where there should be hazmat releases"
   ]
  },
  {
   "cell_type": "code",
   "execution_count": 88,
   "metadata": {},
   "outputs": [
    {
     "name": "stdout",
     "output_type": "stream",
     "text": [
      "THE MANISTEE-21 CREW WAS SWITCHING PACKAGING CORPORATION OF AMERICA WITH 16X12 WHEN FOUR LOADED ASPH ALT TANK CARS (SEQUENCE: 13, 14, 15, 16) DERAILED NEAR THE GATE BETWEEN MQT AND TONDU (PACKAGING COR PORATION OF AMERICA).  4 HAZMAT (CLASS 9) CARS DERAILED, UPRIGHT AND NOT LEAKING.\n",
      "229\n",
      "THE MRENL-20 DERAILED THREE LOADED AUTO RACKS AT MP 351.06 ON THE REISOR SUB.  THERE ARE NO INJURIES OR HAZMAT RELEASES ASSOCIATED WITH THIS DERAILMENT.  1 DRUG POSITIVE - NOT DETERMINED TO BE A CAUSA L FACTOR.\n",
      "362\n",
      "AT 1240 ON JUNE 9TH 2019 THE 0759 EH WAS SHOVING WEST UP 3 EAST APPROACH AND COLLIDED AT THE TOP OF THE HUMP WITH THE 0630 EAST HUMP ASSIGNMENT WHO WAS IN THE PROCESS OF HUMPING WESTWARD OFF OF 01EAPR . NO ONE WAS INJURED FROM THIS INCIDENT HOWEVER THERE WAS A TOTAL OF FOURTEEN CARS DAMAGED OF WHICH 10 OF THE CARS WERE DERAILED OF THE DERAILED CARS SIX OF THEM WERE ON THEIR SIDE JUST TO THE NORTH O F THE EAST HUMP LEADS AT THE TOP OF THE HUMP. MOST OF THE DAMAGED EQUIPMENT WERE TANK CARS IN WHICH TWO OF THEM CLASS 9 HAZARDOUS HOWEVER THERE WAS NO PRODUCT THAT WAS EXPOSED FROM THE DAMAGE. ALL EMP LOYEES WERE CLEARED OF THE AREA AND THE HAZARDOUS MATERIAL TEAM WERE CALLED OUT AS A PRECAUTIONARY, AND A THOROUGH INSPECTION OF THE DAMAGED EQUIPMENT WAS PERFORMED. HULCHER WAS CALLED OUT TOCLEAN UP AND RERAIL DAMAGED CARS.\n",
      "571\n",
      "498-27 WAS TRAVELING EASTWARD ON THE CARRINGTON SUBDIVISION WHEN THE 96TH CAR TRAVERSED A BROKEN BOL T HOLE CAUSING 35 CARS TO DERAIL. TRAIN WAS TRAVELING IN IDLE AT 49MPH AT THE TIME OF THE DERAILMENT . LINE 96 (CRYX 7084) TO LINE 130 (CGTX 64480) DERAILED. TRAIN WAS OPERATING WITH DISTRIBUTIVE POWER WITH THE REMOTE LOCOMOTIVE PLACED IN THE 56TH POSITION OF THE TRAIN. THERE WERE NO TRAIN HANDLING E XCEPTIONS NOTED. THE MAXIMUM SPEED OF THIS LOCATION IS 49MPH. DERAILMENT ALSO RESULTED IN 3 HAZARDOU S CARS RELEASING PRODUCT - PROX 93752 STCC 4905421, PROX 105499 STCC 4920359 & PROX 105275 STCC 4920 359. HAZMAT RELEASE NOT MEASURABLE. PRODUCT WAS FLARED. VAPOR LOSS ONLY.\n",
      "620\n",
      "YDU51-10 WAS SHOVING SOUTH TO TRACK 303 WITH ALL CARS OFF AIR. THE ENGINEER WAS INSTRUCTED TO BRING MOVE TO A STOP AT THE NORTH END OF TRACK 303 TO ALLOW CONDUCTOR TO REPOSITION AT THE SOUTH END OF TR ACK 303 AND PROTECT THE SHOVE. THE CONDUCTOR WAS UNAWARE THE TRAIN BROKE IN TWO 53 CARS AHEAD OF HIS LOCATION AND WERE ROLLING SOUTH. WHEN HE REPOSITIONED, HE GAVE ENGINEER A FRESH CAR COUNT TO CONTIN UE THE SHOVE, AT WHICH TIME THE 83 CARS ATTACHED TO THE LOCOMOTIVE SHOVED INTO THE 53 CARS THAT HAD BROKEN AWAY. THE IMPACT INTO THE 53 CARS CAUSED DERAILMENT OF 14 CARS, INCLUDING ONE HAZMAT CAR THAT CAUGHT FIRE. 1 DRUG POSITIVE - NOT DETERMINED TO BE A CASUAL FACTOR. AT THE TIME OF THE INCIDENT TH E RAIL EQUIPMENT WAS MOVING ABOVE THE MAXIMUM FOR THE TRACK CLASS REPORTED.  #11 - 2158 PERSONS EVAC UATED\n",
      "706\n",
      "YDU51-10 WAS SHOVING SOUTH TO TRACK 303 WITH ALL CARS OFF AIR. THE ENGINEER WAS INSTRUCTED TO BRING MOVE TO A STOP AT THE NORTH END OF TRACK 303 TO ALLOW CONDUCTOR TO REPOSITION AT THE SOUTH END OF TR ACK 303 AND PROTECT THE SHOVE. THE CONDUCTOR WAS UNAWARE THE TRAIN BROKE IN TWO 53 CARS AHEAD OF HIS LOCATION AND WERE ROLLING SOUTH. WHEN HE REPOSITIONED, HE GAVE ENGINEER A FRESH CAR COUNT TO CONTIN UE THE SHOVE, AT WHICH TIME THE 83 CARS ATTACHED TO THE LOCOMOTIVE SHOVED INTO THE 53 CARS THAT HAD BROKEN AWAY. THE IMPACT INTO THE 53 CARS CAUSED DERAILMENT OF 14 CARS, INCLUDING ONE HAZMAT CAR THAT CAUGHT FIRE. 1 DRUG POSITIVE - NOT DETERMINED TO BE A CASUAL FACTOR. CAR#: UTLX 200035 METHYL ISOBU TYL KETO, WHOLE CAR. AT THE TIME OF THE INCIDENT THE RAIL EQUIPMENT WAS MOVING ABOVE THE MAXIMUM FOR THE TRACK CLASS REPORTED.  #11 - 2158 PERSONS EVACUATED\n",
      "707\n",
      "MITDM-14 WAS TRAVELING SOUTH ON THE ALBERT LEA MAIN WHEN IT DERAILED 9 CARS IN MANLY, IA.  NO INJURI ES OR HAZMAT RELEASES REPORTED.  1 SET OF WHEELS DERAILED SOUTH OF THE IANR MAIN LINE SWITCH IN MANL Y AND WAS CARRIED ON THE GROUND FOR 0.2 MILES UNTIL IT HIT THE NORTH SWITCH OF THE MANLY SIDING.  AT THIS POINT, THE OTHER 8 CARS DERAILED.\n",
      "879\n",
      "CLNA TRAIN 115-03 TRAVELING WESTBOUND DERAILED AT 2:50PM. A 2 FOOT SECTION OF RAIL HEAD BROKE UNDER REAR CAR OF TRAIN, DROPPING 1 WHEEL (R4) ON THE GROUND. CAR RODE THE BASE OF THE RAIL FOR 628 FEET U NTIL TRUCKS SLEWED ENOUGH TO CAUSE L4 WHEEL TO WALK OVER THE RAIL IT WAS RIDING ON. CAR TRAVELED 118 FEET UNTIL ROLLING ONTO ITS LEFT SIDE. CAR ROLLED FORCED THE CAR AHEAD OF IT OFF THE RAIL. CREW SHO WED NO SIGNS OR SYMPTOMS OF ALCOHOL/DRUG USE. NO DAMAGE OR SPILLAGE OF FUEL FROM EITHER LOCOMOTIVE I N CONSIST. 25 OTHER CARS IN TRAIN RECEIVED NO DAMAGE. 14 EMPTY HAZMAT CARS IN TRAIN (UN 2448 - SULFU R, MOLTEN) WERE NOT DERAILED AND RECEIVED NO DAMAGE.\n",
      "967\n",
      "YPD11-07, LEAD LOCOMOTIVE UPY635 PULLED EAST OUT OF TRACK 19 WITH FOREMAN RIDING THE PLATFORM. THE F OREMAN OBSERVED A BROKEN RAIL ON THE SOUTH RAIL OF TRACK 20 AND IMMEDIATELY TOLD THE ENGINEER THAT W ILL DO. MOVEMENT OVER THE BROKEN RAIL RESULTED IN THE DERAILMENT OF TWO LOCOMOTIVES AND THREE LOADED HAZMAT CARS. GOING STREET OVER PASS WAS STRUCK BY LOCOMOTIVE UPY635 AND UP699 RESULTING IN DAMAGE O N THE NORTH CENTER LANE PILLAR.\n",
      "1317\n",
      "SOUTH PLAINS LAMESA RAILROAD WAS WORKING INSIDE VESTAS OFF THE VESTAS LEAD, PULLED OFF TWO CARS.  A SINGLE BNSF ENGINE ROLLED OUT DOWN THE VESTAS LEAD AND STRUCK A SPLIT POINT DERAIL RESULTING IN A BN SF ENGINE ON ITS SIDE.  NO INJURIES OR HAZMAT RELEASES.  SOUTH PLAINS LAMESA RAILROAD WAS PERFORMING THE WORK, BNSF ENGINE CAUSED THE IMPACT, UP MAINTAINED TRACK.  SOUTH PLAINS LAMESA RAILROAD EQUIPME NT DAMAGE = $100,000\n",
      "1431\n",
      "YSP51-05 WAS PULLING INTO EAST MINNEAPOLIS YARD WITH THE MINNESOTA COMMERCIAL TRANSFER.  THEY STARTE D INTO THE YARD AND DERAILED AT THE TK5 SWITCH.  SEVEN TANK CARS DERAILED, SIX BEING LOADED, ELEVATE D TEMPERATURE HAZMAT (ASPHALT).\n",
      "1983\n",
      "THE RUT 212 CONDUCTOR FAILED TO PROPERLY PROTECT A SHOVE THAT RESULTED IN THE MOVEMENT RUNNING THROU GH THE TRACK 6 SWITCH IN EAST PROVO YARD WHILE BUILDING THE OUTBOUND PVOSTO1.  WHEN THE OUTBOUND CRE W FOR THE PVOSTO1 BEGAN TO DEPART PROVO YARD WESTBOUND, THE CREW FELT A TUG THEN THE TRAIN WENT INTO EMERGENCY. THE CONDUCTOR INSPECTED THE TRAIN DISCOVERED THEY HAD DERAILED THE REAR LOADED HAZMAT TA NK CAR CONTAINING (BISULPHITES, AQUEOUS, SOLUTION N.O.S.) DUE TO MOVEMENT THROUGH THE PREVIOUSLY RUN THROUGH SWITCH. THE DERAILED HAZMAT CAR ALSO STRUCK AND DERAILED A NON-HAZMAT CAR ON THE ADJACENT T RACK. THERE WAS NO RELEASE OF THE HAZMAT COMMODITY AND NO INJURIES.\n",
      "2048\n",
      "MOGWC-29, LEAD LOCOMOTIVE UP8905, EXPERIENCED A UDE AT MP 686.1.  UPON INSPECTION, TRAIN WAS FOUND T O BE DERAILED.  CREW EVACUATED WESTBOUND ON HEAD END POWER (CUT AND RUN) DUE TO HAZMAT INVOLVED.  UP ON INVESTIGATION, 25 CARS WERE FOUND TO BE DERAILED DUE TO TREAD BUILDUP FOUND ON THE MP650466.  CAR #: TILX 303199 PROPANE - 80% OF CAR WAS RELEASED.  CAR#: TILX 305830 PROPANE - VAPOR DISPERSION.  CA R#: TILX 308673 PROPANE - CAR#: BRGX 537 BIO-DIESEL, <500 GAL.\n",
      "2055\n",
      "YHO32R 03 WAS PUTTING BRAKES AND CARS INTO 311.  AS THEY WERE DRAGGING OUT THEY DERAILED 2 CARS UPRI GHT.  NO INJURIES OR HAZMAT RELEASES.\n",
      "2370\n"
     ]
    }
   ],
   "source": [
    "index = 0\n",
    "for narr in all_narr_list: \n",
    "    n = narr.split()\n",
    "    if ('HAZARDOUS' in n or 'HAZMAT' in n) and index not in no_hazmat_indexes:\n",
    "        print(narr)\n",
    "        print(index)\n",
    "    index +=1\n",
    "    "
   ]
  },
  {
   "cell_type": "markdown",
   "metadata": {},
   "source": [
    "And we encounter a problem. it seems like either during typing the incident texts, or during merging of the columns, \"NO\" becamse \"N O\". However, this is an easy fix. Let's insert another bigram into our list above and rerun the cells from there\n"
   ]
  },
  {
   "cell_type": "code",
   "execution_count": 90,
   "metadata": {
    "scrolled": false
   },
   "outputs": [
    {
     "name": "stdout",
     "output_type": "stream",
     "text": [
      "THE MANISTEE-21 CREW WAS SWITCHING PACKAGING CORPORATION OF AMERICA WITH 16X12 WHEN FOUR LOADED ASPH ALT TANK CARS (SEQUENCE: 13, 14, 15, 16) DERAILED NEAR THE GATE BETWEEN MQT AND TONDU (PACKAGING COR PORATION OF AMERICA).  4 HAZMAT (CLASS 9) CARS DERAILED, UPRIGHT AND NOT LEAKING.\n",
      "229\n",
      "THE MRENL-20 DERAILED THREE LOADED AUTO RACKS AT MP 351.06 ON THE REISOR SUB.  THERE ARE NO INJURIES OR HAZMAT RELEASES ASSOCIATED WITH THIS DERAILMENT.  1 DRUG POSITIVE - NOT DETERMINED TO BE A CAUSA L FACTOR.\n",
      "362\n",
      "AT 1240 ON JUNE 9TH 2019 THE 0759 EH WAS SHOVING WEST UP 3 EAST APPROACH AND COLLIDED AT THE TOP OF THE HUMP WITH THE 0630 EAST HUMP ASSIGNMENT WHO WAS IN THE PROCESS OF HUMPING WESTWARD OFF OF 01EAPR . NO ONE WAS INJURED FROM THIS INCIDENT HOWEVER THERE WAS A TOTAL OF FOURTEEN CARS DAMAGED OF WHICH 10 OF THE CARS WERE DERAILED OF THE DERAILED CARS SIX OF THEM WERE ON THEIR SIDE JUST TO THE NORTH O F THE EAST HUMP LEADS AT THE TOP OF THE HUMP. MOST OF THE DAMAGED EQUIPMENT WERE TANK CARS IN WHICH TWO OF THEM CLASS 9 HAZARDOUS HOWEVER THERE WAS NO PRODUCT THAT WAS EXPOSED FROM THE DAMAGE. ALL EMP LOYEES WERE CLEARED OF THE AREA AND THE HAZARDOUS MATERIAL TEAM WERE CALLED OUT AS A PRECAUTIONARY, AND A THOROUGH INSPECTION OF THE DAMAGED EQUIPMENT WAS PERFORMED. HULCHER WAS CALLED OUT TOCLEAN UP AND RERAIL DAMAGED CARS.\n",
      "571\n",
      "498-27 WAS TRAVELING EASTWARD ON THE CARRINGTON SUBDIVISION WHEN THE 96TH CAR TRAVERSED A BROKEN BOL T HOLE CAUSING 35 CARS TO DERAIL. TRAIN WAS TRAVELING IN IDLE AT 49MPH AT THE TIME OF THE DERAILMENT . LINE 96 (CRYX 7084) TO LINE 130 (CGTX 64480) DERAILED. TRAIN WAS OPERATING WITH DISTRIBUTIVE POWER WITH THE REMOTE LOCOMOTIVE PLACED IN THE 56TH POSITION OF THE TRAIN. THERE WERE NO TRAIN HANDLING E XCEPTIONS NOTED. THE MAXIMUM SPEED OF THIS LOCATION IS 49MPH. DERAILMENT ALSO RESULTED IN 3 HAZARDOU S CARS RELEASING PRODUCT - PROX 93752 STCC 4905421, PROX 105499 STCC 4920359 & PROX 105275 STCC 4920 359. HAZMAT RELEASE NOT MEASURABLE. PRODUCT WAS FLARED. VAPOR LOSS ONLY.\n",
      "620\n",
      "YDU51-10 WAS SHOVING SOUTH TO TRACK 303 WITH ALL CARS OFF AIR. THE ENGINEER WAS INSTRUCTED TO BRING MOVE TO A STOP AT THE NORTH END OF TRACK 303 TO ALLOW CONDUCTOR TO REPOSITION AT THE SOUTH END OF TR ACK 303 AND PROTECT THE SHOVE. THE CONDUCTOR WAS UNAWARE THE TRAIN BROKE IN TWO 53 CARS AHEAD OF HIS LOCATION AND WERE ROLLING SOUTH. WHEN HE REPOSITIONED, HE GAVE ENGINEER A FRESH CAR COUNT TO CONTIN UE THE SHOVE, AT WHICH TIME THE 83 CARS ATTACHED TO THE LOCOMOTIVE SHOVED INTO THE 53 CARS THAT HAD BROKEN AWAY. THE IMPACT INTO THE 53 CARS CAUSED DERAILMENT OF 14 CARS, INCLUDING ONE HAZMAT CAR THAT CAUGHT FIRE. 1 DRUG POSITIVE - NOT DETERMINED TO BE A CASUAL FACTOR. AT THE TIME OF THE INCIDENT TH E RAIL EQUIPMENT WAS MOVING ABOVE THE MAXIMUM FOR THE TRACK CLASS REPORTED.  #11 - 2158 PERSONS EVAC UATED\n",
      "706\n",
      "YDU51-10 WAS SHOVING SOUTH TO TRACK 303 WITH ALL CARS OFF AIR. THE ENGINEER WAS INSTRUCTED TO BRING MOVE TO A STOP AT THE NORTH END OF TRACK 303 TO ALLOW CONDUCTOR TO REPOSITION AT THE SOUTH END OF TR ACK 303 AND PROTECT THE SHOVE. THE CONDUCTOR WAS UNAWARE THE TRAIN BROKE IN TWO 53 CARS AHEAD OF HIS LOCATION AND WERE ROLLING SOUTH. WHEN HE REPOSITIONED, HE GAVE ENGINEER A FRESH CAR COUNT TO CONTIN UE THE SHOVE, AT WHICH TIME THE 83 CARS ATTACHED TO THE LOCOMOTIVE SHOVED INTO THE 53 CARS THAT HAD BROKEN AWAY. THE IMPACT INTO THE 53 CARS CAUSED DERAILMENT OF 14 CARS, INCLUDING ONE HAZMAT CAR THAT CAUGHT FIRE. 1 DRUG POSITIVE - NOT DETERMINED TO BE A CASUAL FACTOR. CAR#: UTLX 200035 METHYL ISOBU TYL KETO, WHOLE CAR. AT THE TIME OF THE INCIDENT THE RAIL EQUIPMENT WAS MOVING ABOVE THE MAXIMUM FOR THE TRACK CLASS REPORTED.  #11 - 2158 PERSONS EVACUATED\n",
      "707\n",
      "MITDM-14 WAS TRAVELING SOUTH ON THE ALBERT LEA MAIN WHEN IT DERAILED 9 CARS IN MANLY, IA.  NO INJURI ES OR HAZMAT RELEASES REPORTED.  1 SET OF WHEELS DERAILED SOUTH OF THE IANR MAIN LINE SWITCH IN MANL Y AND WAS CARRIED ON THE GROUND FOR 0.2 MILES UNTIL IT HIT THE NORTH SWITCH OF THE MANLY SIDING.  AT THIS POINT, THE OTHER 8 CARS DERAILED.\n",
      "879\n",
      "CLNA TRAIN 115-03 TRAVELING WESTBOUND DERAILED AT 2:50PM. A 2 FOOT SECTION OF RAIL HEAD BROKE UNDER REAR CAR OF TRAIN, DROPPING 1 WHEEL (R4) ON THE GROUND. CAR RODE THE BASE OF THE RAIL FOR 628 FEET U NTIL TRUCKS SLEWED ENOUGH TO CAUSE L4 WHEEL TO WALK OVER THE RAIL IT WAS RIDING ON. CAR TRAVELED 118 FEET UNTIL ROLLING ONTO ITS LEFT SIDE. CAR ROLLED FORCED THE CAR AHEAD OF IT OFF THE RAIL. CREW SHO WED NO SIGNS OR SYMPTOMS OF ALCOHOL/DRUG USE. NO DAMAGE OR SPILLAGE OF FUEL FROM EITHER LOCOMOTIVE I N CONSIST. 25 OTHER CARS IN TRAIN RECEIVED NO DAMAGE. 14 EMPTY HAZMAT CARS IN TRAIN (UN 2448 - SULFU R, MOLTEN) WERE NOT DERAILED AND RECEIVED NO DAMAGE.\n",
      "967\n",
      "YPD11-07, LEAD LOCOMOTIVE UPY635 PULLED EAST OUT OF TRACK 19 WITH FOREMAN RIDING THE PLATFORM. THE F OREMAN OBSERVED A BROKEN RAIL ON THE SOUTH RAIL OF TRACK 20 AND IMMEDIATELY TOLD THE ENGINEER THAT W ILL DO. MOVEMENT OVER THE BROKEN RAIL RESULTED IN THE DERAILMENT OF TWO LOCOMOTIVES AND THREE LOADED HAZMAT CARS. GOING STREET OVER PASS WAS STRUCK BY LOCOMOTIVE UPY635 AND UP699 RESULTING IN DAMAGE O N THE NORTH CENTER LANE PILLAR.\n",
      "1317\n",
      "SOUTH PLAINS LAMESA RAILROAD WAS WORKING INSIDE VESTAS OFF THE VESTAS LEAD, PULLED OFF TWO CARS.  A SINGLE BNSF ENGINE ROLLED OUT DOWN THE VESTAS LEAD AND STRUCK A SPLIT POINT DERAIL RESULTING IN A BN SF ENGINE ON ITS SIDE.  NO INJURIES OR HAZMAT RELEASES.  SOUTH PLAINS LAMESA RAILROAD WAS PERFORMING THE WORK, BNSF ENGINE CAUSED THE IMPACT, UP MAINTAINED TRACK.  SOUTH PLAINS LAMESA RAILROAD EQUIPME NT DAMAGE = $100,000\n",
      "1431\n",
      "YSP51-05 WAS PULLING INTO EAST MINNEAPOLIS YARD WITH THE MINNESOTA COMMERCIAL TRANSFER.  THEY STARTE D INTO THE YARD AND DERAILED AT THE TK5 SWITCH.  SEVEN TANK CARS DERAILED, SIX BEING LOADED, ELEVATE D TEMPERATURE HAZMAT (ASPHALT).\n",
      "1983\n",
      "THE RUT 212 CONDUCTOR FAILED TO PROPERLY PROTECT A SHOVE THAT RESULTED IN THE MOVEMENT RUNNING THROU GH THE TRACK 6 SWITCH IN EAST PROVO YARD WHILE BUILDING THE OUTBOUND PVOSTO1.  WHEN THE OUTBOUND CRE W FOR THE PVOSTO1 BEGAN TO DEPART PROVO YARD WESTBOUND, THE CREW FELT A TUG THEN THE TRAIN WENT INTO EMERGENCY. THE CONDUCTOR INSPECTED THE TRAIN DISCOVERED THEY HAD DERAILED THE REAR LOADED HAZMAT TA NK CAR CONTAINING (BISULPHITES, AQUEOUS, SOLUTION N.O.S.) DUE TO MOVEMENT THROUGH THE PREVIOUSLY RUN THROUGH SWITCH. THE DERAILED HAZMAT CAR ALSO STRUCK AND DERAILED A NON-HAZMAT CAR ON THE ADJACENT T RACK. THERE WAS NO RELEASE OF THE HAZMAT COMMODITY AND NO INJURIES.\n",
      "2048\n",
      "MOGWC-29, LEAD LOCOMOTIVE UP8905, EXPERIENCED A UDE AT MP 686.1.  UPON INSPECTION, TRAIN WAS FOUND T O BE DERAILED.  CREW EVACUATED WESTBOUND ON HEAD END POWER (CUT AND RUN) DUE TO HAZMAT INVOLVED.  UP ON INVESTIGATION, 25 CARS WERE FOUND TO BE DERAILED DUE TO TREAD BUILDUP FOUND ON THE MP650466.  CAR #: TILX 303199 PROPANE - 80% OF CAR WAS RELEASED.  CAR#: TILX 305830 PROPANE - VAPOR DISPERSION.  CA R#: TILX 308673 PROPANE - CAR#: BRGX 537 BIO-DIESEL, <500 GAL.\n",
      "2055\n",
      "YHO32R 03 WAS PUTTING BRAKES AND CARS INTO 311.  AS THEY WERE DRAGGING OUT THEY DERAILED 2 CARS UPRI GHT.  NO INJURIES OR HAZMAT RELEASES.\n",
      "2370\n"
     ]
    }
   ],
   "source": [
    "index = 0\n",
    "hazmat_released_indexes = []\n",
    "for narr in all_narr_list:\n",
    "    n = narr.split()\n",
    "    if ('HAZARDOUS' in n or 'HAZMAT' in n) and index not in no_hazmat_indexes:\n",
    "        print(narr)\n",
    "        print(index)\n",
    "        hazmat_released_indexes.append(index)\n",
    "    index +=1\n",
    "    "
   ]
  },
  {
   "cell_type": "markdown",
   "metadata": {},
   "source": [
    "above are the few incidents that actually involved hazardous materials to be released. There are only a few so we can go through them \"by hand\" and identify that there are some others where nothing was released but was not picked up by our bi-gram identified because there were several words between \"no\" and \"hazmat\". We can therefore create an\n",
    "index list for those incidents where hazmat was released and delete those that are wrong"
   ]
  },
  {
   "cell_type": "code",
   "execution_count": 91,
   "metadata": {},
   "outputs": [
    {
     "data": {
      "text/plain": [
       "[229, 362, 571, 620, 706, 707, 879, 967, 1317, 1431, 1983, 2048, 2055, 2370]"
      ]
     },
     "execution_count": 91,
     "metadata": {},
     "output_type": "execute_result"
    }
   ],
   "source": [
    "hazmat_released_indexes"
   ]
  },
  {
   "cell_type": "code",
   "execution_count": 92,
   "metadata": {},
   "outputs": [
    {
     "data": {
      "text/plain": [
       "[229, 362, 571, 620, 706, 707, 967, 1317, 1983, 2055]"
      ]
     },
     "execution_count": 92,
     "metadata": {},
     "output_type": "execute_result"
    }
   ],
   "source": [
    "no_hazmat_add = [ 879,1431, 2048, 2370]\n",
    "hazmat_indexes_final = [x for x in hazmat_released_indexes if x not in no_hazmat_add]\n",
    "hazmat_indexes_final"
   ]
  },
  {
   "cell_type": "markdown",
   "metadata": {},
   "source": [
    "## Putting everything together before final thing\n",
    "so we have a list of indexes for\n",
    "- hazardous material release\n",
    "- damages\n",
    "- where no derailment occured\n",
    "lets update our dataframe with these"
   ]
  },
  {
   "cell_type": "code",
   "execution_count": 93,
   "metadata": {},
   "outputs": [
    {
     "data": {
      "text/plain": [
       "2401"
      ]
     },
     "execution_count": 93,
     "metadata": {},
     "output_type": "execute_result"
    }
   ],
   "source": [
    "# populating boolean lists\n",
    "len(all_narr_list)"
   ]
  },
  {
   "cell_type": "code",
   "execution_count": 94,
   "metadata": {},
   "outputs": [],
   "source": [
    "#lets populate three lists with boolean values\n",
    "hazard =[False] * 2401\n",
    "damages = [False] * 2401"
   ]
  },
  {
   "cell_type": "code",
   "execution_count": 95,
   "metadata": {},
   "outputs": [],
   "source": [
    "#the derail column already exists so lets extract that into a list so we can update it\n",
    "derail_old = raw_data_df['DERAIL'].tolist()"
   ]
  },
  {
   "cell_type": "code",
   "execution_count": 96,
   "metadata": {},
   "outputs": [],
   "source": [
    "for index in no_derail_indexes:\n",
    "    derail_old[index] = False"
   ]
  },
  {
   "cell_type": "code",
   "execution_count": 97,
   "metadata": {},
   "outputs": [],
   "source": [
    "for index in hazmat_released_indexes:\n",
    "    hazard[index] = True"
   ]
  },
  {
   "cell_type": "code",
   "execution_count": 98,
   "metadata": {},
   "outputs": [],
   "source": [
    "for index in damage_indexes:\n",
    "    damages[index] = True"
   ]
  },
  {
   "cell_type": "code",
   "execution_count": 99,
   "metadata": {},
   "outputs": [],
   "source": [
    "del raw_data_df['OTHER']"
   ]
  },
  {
   "cell_type": "code",
   "execution_count": 100,
   "metadata": {},
   "outputs": [],
   "source": [
    "del raw_data_df['DERAIL']"
   ]
  },
  {
   "cell_type": "code",
   "execution_count": 101,
   "metadata": {},
   "outputs": [],
   "source": [
    "raw_data_df['DERAIL'] = derail_old"
   ]
  },
  {
   "cell_type": "code",
   "execution_count": 102,
   "metadata": {},
   "outputs": [],
   "source": [
    "raw_data_df['OTHER'] = (raw_data_df['DERAIL'] == False) & (raw_data_df['STRUCK'] == False)"
   ]
  },
  {
   "cell_type": "code",
   "execution_count": 103,
   "metadata": {},
   "outputs": [],
   "source": [
    "raw_data_df['HAZMAT'] = hazard"
   ]
  },
  {
   "cell_type": "code",
   "execution_count": 104,
   "metadata": {},
   "outputs": [],
   "source": [
    "raw_data_df['DAMAGE'] = damages"
   ]
  },
  {
   "cell_type": "code",
   "execution_count": 105,
   "metadata": {},
   "outputs": [
    {
     "data": {
      "text/html": [
       "<div>\n",
       "<style scoped>\n",
       "    .dataframe tbody tr th:only-of-type {\n",
       "        vertical-align: middle;\n",
       "    }\n",
       "\n",
       "    .dataframe tbody tr th {\n",
       "        vertical-align: top;\n",
       "    }\n",
       "\n",
       "    .dataframe thead th {\n",
       "        text-align: right;\n",
       "    }\n",
       "</style>\n",
       "<table border=\"1\" class=\"dataframe\">\n",
       "  <thead>\n",
       "    <tr style=\"text-align: right;\">\n",
       "      <th></th>\n",
       "      <th>IYR</th>\n",
       "      <th>IMO</th>\n",
       "      <th>RAILROAD</th>\n",
       "      <th>STATE</th>\n",
       "      <th>STATION</th>\n",
       "      <th>COUNTY</th>\n",
       "      <th>NARR</th>\n",
       "      <th>PREP</th>\n",
       "      <th>STRUCK</th>\n",
       "      <th>DERAIL</th>\n",
       "      <th>OTHER</th>\n",
       "      <th>HAZMAT</th>\n",
       "      <th>DAMAGE</th>\n",
       "    </tr>\n",
       "  </thead>\n",
       "  <tbody>\n",
       "    <tr>\n",
       "      <th>0</th>\n",
       "      <td>19</td>\n",
       "      <td>11</td>\n",
       "      <td>ATK</td>\n",
       "      <td>6</td>\n",
       "      <td>CASTROVILLE</td>\n",
       "      <td>MONTEREY</td>\n",
       "      <td>CAMERA-EQUIPPED TRAIN 14 STRUCK AN OCCUPIED SA...</td>\n",
       "      <td>camera equip train struck occupi sanit truck m...</td>\n",
       "      <td>True</td>\n",
       "      <td>False</td>\n",
       "      <td>False</td>\n",
       "      <td>False</td>\n",
       "      <td>False</td>\n",
       "    </tr>\n",
       "    <tr>\n",
       "      <th>1</th>\n",
       "      <td>19</td>\n",
       "      <td>10</td>\n",
       "      <td>MNCW</td>\n",
       "      <td>9</td>\n",
       "      <td>NORWALK</td>\n",
       "      <td>FAIRFIELD</td>\n",
       "      <td>PRODUCTION GANG, TRAVELING NORTH WITH 22 PIECE...</td>\n",
       "      <td>product gang travel north piec equip seper pie...</td>\n",
       "      <td>False</td>\n",
       "      <td>False</td>\n",
       "      <td>True</td>\n",
       "      <td>False</td>\n",
       "      <td>False</td>\n",
       "    </tr>\n",
       "    <tr>\n",
       "      <th>2</th>\n",
       "      <td>19</td>\n",
       "      <td>4</td>\n",
       "      <td>FEC</td>\n",
       "      <td>12</td>\n",
       "      <td>POMPANO BEACH</td>\n",
       "      <td>BROWARD</td>\n",
       "      <td>BLF 604 WAS TRAVELING SOUTHBOUND ON EAST MAIN ...</td>\n",
       "      <td>blf travel southbound east main approxim mph n...</td>\n",
       "      <td>True</td>\n",
       "      <td>False</td>\n",
       "      <td>False</td>\n",
       "      <td>False</td>\n",
       "      <td>False</td>\n",
       "    </tr>\n",
       "    <tr>\n",
       "      <th>3</th>\n",
       "      <td>19</td>\n",
       "      <td>4</td>\n",
       "      <td>FEC</td>\n",
       "      <td>12</td>\n",
       "      <td>POMPANO BEACH</td>\n",
       "      <td>BROWARD</td>\n",
       "      <td>BLF 606 WAS TRAVELING SOUTHBOUND ON EAST MAIN ...</td>\n",
       "      <td>blf travel southbound east main notic vehicl f...</td>\n",
       "      <td>True</td>\n",
       "      <td>False</td>\n",
       "      <td>False</td>\n",
       "      <td>False</td>\n",
       "      <td>False</td>\n",
       "    </tr>\n",
       "    <tr>\n",
       "      <th>4</th>\n",
       "      <td>19</td>\n",
       "      <td>4</td>\n",
       "      <td>CSX</td>\n",
       "      <td>12</td>\n",
       "      <td>SEVILLE</td>\n",
       "      <td>VOLUSIA</td>\n",
       "      <td>AMTRAK P09811 STRUCK SEMI AT PRIVATE CROSSING.</td>\n",
       "      <td>amtrak struck semi privat cross</td>\n",
       "      <td>True</td>\n",
       "      <td>False</td>\n",
       "      <td>False</td>\n",
       "      <td>False</td>\n",
       "      <td>False</td>\n",
       "    </tr>\n",
       "    <tr>\n",
       "      <th>...</th>\n",
       "      <td>...</td>\n",
       "      <td>...</td>\n",
       "      <td>...</td>\n",
       "      <td>...</td>\n",
       "      <td>...</td>\n",
       "      <td>...</td>\n",
       "      <td>...</td>\n",
       "      <td>...</td>\n",
       "      <td>...</td>\n",
       "      <td>...</td>\n",
       "      <td>...</td>\n",
       "      <td>...</td>\n",
       "      <td>...</td>\n",
       "    </tr>\n",
       "    <tr>\n",
       "      <th>2679</th>\n",
       "      <td>19</td>\n",
       "      <td>2</td>\n",
       "      <td>TRC</td>\n",
       "      <td>6</td>\n",
       "      <td>TRONA</td>\n",
       "      <td>SAN BERNARDINO</td>\n",
       "      <td>RUN 2 WAS IN THE PROCESS OF PULLING THE HEAD 1...</td>\n",
       "      <td>run process pull head load saltspur track trc ...</td>\n",
       "      <td>False</td>\n",
       "      <td>True</td>\n",
       "      <td>False</td>\n",
       "      <td>False</td>\n",
       "      <td>False</td>\n",
       "    </tr>\n",
       "    <tr>\n",
       "      <th>2680</th>\n",
       "      <td>19</td>\n",
       "      <td>2</td>\n",
       "      <td>NCTC</td>\n",
       "      <td>6</td>\n",
       "      <td>OCEANSIDE</td>\n",
       "      <td>SAN DIEGO</td>\n",
       "      <td>METROLINK 858 DERAILED AT STUART MESA YARD.</td>\n",
       "      <td>metrolink derail stuart mesa yard</td>\n",
       "      <td>False</td>\n",
       "      <td>True</td>\n",
       "      <td>False</td>\n",
       "      <td>False</td>\n",
       "      <td>False</td>\n",
       "    </tr>\n",
       "    <tr>\n",
       "      <th>2681</th>\n",
       "      <td>19</td>\n",
       "      <td>1</td>\n",
       "      <td>MET</td>\n",
       "      <td>6</td>\n",
       "      <td>MODESTO</td>\n",
       "      <td>STANISLAUS</td>\n",
       "      <td>ON THE MORNING OF JANUARY 15, 2019, CONDUCTOR ...</td>\n",
       "      <td>morn januari conductor switch car industri set...</td>\n",
       "      <td>False</td>\n",
       "      <td>False</td>\n",
       "      <td>True</td>\n",
       "      <td>False</td>\n",
       "      <td>True</td>\n",
       "    </tr>\n",
       "    <tr>\n",
       "      <th>2682</th>\n",
       "      <td>19</td>\n",
       "      <td>7</td>\n",
       "      <td>BNSF</td>\n",
       "      <td>6</td>\n",
       "      <td>BAKERSFIELD</td>\n",
       "      <td>KERN</td>\n",
       "      <td>EMPLOYEE STOPPED AND LINED THE DERAIL TO THE W...</td>\n",
       "      <td>employe stop line derail work posit pull locom...</td>\n",
       "      <td>False</td>\n",
       "      <td>True</td>\n",
       "      <td>False</td>\n",
       "      <td>False</td>\n",
       "      <td>False</td>\n",
       "    </tr>\n",
       "    <tr>\n",
       "      <th>2683</th>\n",
       "      <td>19</td>\n",
       "      <td>12</td>\n",
       "      <td>UP</td>\n",
       "      <td>6</td>\n",
       "      <td>BLOOMINGTON</td>\n",
       "      <td>SAN BERNARDINO</td>\n",
       "      <td>LOQ25-26 WAS MAKING A SHOVING MOVE WITH LIGHT ...</td>\n",
       "      <td>loq make shove move light locomot track conduc...</td>\n",
       "      <td>False</td>\n",
       "      <td>True</td>\n",
       "      <td>False</td>\n",
       "      <td>False</td>\n",
       "      <td>False</td>\n",
       "    </tr>\n",
       "  </tbody>\n",
       "</table>\n",
       "<p>2401 rows × 13 columns</p>\n",
       "</div>"
      ],
      "text/plain": [
       "      IYR  IMO RAILROAD  STATE        STATION          COUNTY  \\\n",
       "0      19   11      ATK      6    CASTROVILLE        MONTEREY   \n",
       "1      19   10     MNCW      9        NORWALK       FAIRFIELD   \n",
       "2      19    4      FEC     12  POMPANO BEACH         BROWARD   \n",
       "3      19    4      FEC     12  POMPANO BEACH         BROWARD   \n",
       "4      19    4      CSX     12        SEVILLE         VOLUSIA   \n",
       "...   ...  ...      ...    ...            ...             ...   \n",
       "2679   19    2      TRC      6          TRONA  SAN BERNARDINO   \n",
       "2680   19    2     NCTC      6      OCEANSIDE       SAN DIEGO   \n",
       "2681   19    1      MET      6        MODESTO      STANISLAUS   \n",
       "2682   19    7     BNSF      6    BAKERSFIELD            KERN   \n",
       "2683   19   12       UP      6    BLOOMINGTON  SAN BERNARDINO   \n",
       "\n",
       "                                                   NARR  \\\n",
       "0     CAMERA-EQUIPPED TRAIN 14 STRUCK AN OCCUPIED SA...   \n",
       "1     PRODUCTION GANG, TRAVELING NORTH WITH 22 PIECE...   \n",
       "2     BLF 604 WAS TRAVELING SOUTHBOUND ON EAST MAIN ...   \n",
       "3     BLF 606 WAS TRAVELING SOUTHBOUND ON EAST MAIN ...   \n",
       "4        AMTRAK P09811 STRUCK SEMI AT PRIVATE CROSSING.   \n",
       "...                                                 ...   \n",
       "2679  RUN 2 WAS IN THE PROCESS OF PULLING THE HEAD 1...   \n",
       "2680        METROLINK 858 DERAILED AT STUART MESA YARD.   \n",
       "2681  ON THE MORNING OF JANUARY 15, 2019, CONDUCTOR ...   \n",
       "2682  EMPLOYEE STOPPED AND LINED THE DERAIL TO THE W...   \n",
       "2683  LOQ25-26 WAS MAKING A SHOVING MOVE WITH LIGHT ...   \n",
       "\n",
       "                                                   PREP  STRUCK  DERAIL  \\\n",
       "0     camera equip train struck occupi sanit truck m...    True   False   \n",
       "1     product gang travel north piec equip seper pie...   False   False   \n",
       "2     blf travel southbound east main approxim mph n...    True   False   \n",
       "3     blf travel southbound east main notic vehicl f...    True   False   \n",
       "4                       amtrak struck semi privat cross    True   False   \n",
       "...                                                 ...     ...     ...   \n",
       "2679  run process pull head load saltspur track trc ...   False    True   \n",
       "2680                  metrolink derail stuart mesa yard   False    True   \n",
       "2681  morn januari conductor switch car industri set...   False   False   \n",
       "2682  employe stop line derail work posit pull locom...   False    True   \n",
       "2683  loq make shove move light locomot track conduc...   False    True   \n",
       "\n",
       "      OTHER  HAZMAT  DAMAGE  \n",
       "0     False   False   False  \n",
       "1      True   False   False  \n",
       "2     False   False   False  \n",
       "3     False   False   False  \n",
       "4     False   False   False  \n",
       "...     ...     ...     ...  \n",
       "2679  False   False   False  \n",
       "2680  False   False   False  \n",
       "2681   True   False    True  \n",
       "2682  False   False   False  \n",
       "2683  False   False   False  \n",
       "\n",
       "[2401 rows x 13 columns]"
      ]
     },
     "execution_count": 105,
     "metadata": {},
     "output_type": "execute_result"
    }
   ],
   "source": [
    "raw_data_df"
   ]
  },
  {
   "cell_type": "markdown",
   "metadata": {},
   "source": [
    "## Extracting Amount of Damages in \\$"
   ]
  },
  {
   "cell_type": "code",
   "execution_count": 106,
   "metadata": {},
   "outputs": [
    {
     "data": {
      "text/plain": [
       "['$400,000']"
      ]
     },
     "execution_count": 106,
     "metadata": {},
     "output_type": "execute_result"
    }
   ],
   "source": [
    "test = \"sentence to check whether it finds the damage of $400,000 \"\n",
    "\n",
    "amount = re.findall(r\"\\$[-0-9.,]+[-0-9.,a-zA-Z]*\\b\", test)\n",
    "amount"
   ]
  },
  {
   "cell_type": "code",
   "execution_count": null,
   "metadata": {},
   "outputs": [],
   "source": []
  },
  {
   "cell_type": "code",
   "execution_count": 108,
   "metadata": {},
   "outputs": [
    {
     "name": "stdout",
     "output_type": "stream",
     "text": [
      "['$18K']\n",
      "137\n",
      "['$15K']\n",
      "257\n",
      "['$45K']\n",
      "564\n",
      "['$3K']\n",
      "1482\n",
      "['$8500K', '$81660']\n",
      "1816\n"
     ]
    }
   ],
   "source": [
    "damages_amounts = []\n",
    "index = 0\n",
    "\n",
    "for narr in all_narr_list:\n",
    "    amount = re.findall(r\"\\$[-0-9.,]+[-0-9.,a-zA-Z]*\\b\", narr)\n",
    "    if len(amount) == 0:\n",
    "        damages_amounts.append([0])\n",
    "        \n",
    "    else:\n",
    "        #piece of code explained below\n",
    "        for a in amount:\n",
    "            if a[-1] == 'K':   #K\n",
    "                print(amount)\n",
    "                print(index)\n",
    "        \n",
    "        damages_amounts.append(amount)\n",
    "    \n",
    "    index += 1"
   ]
  },
  {
   "cell_type": "markdown",
   "metadata": {},
   "source": [
    "By manually inspecting the incidents where there are several amounts, there is one at index 508 that lists all the different damages and then totaling it (the other incident reports don't do that) and another incident at index 1235 shows a range (800,000 - 1,000,000). I will therefore manually change the amounts for those incidents and for the rest I will create separate columns for each damage and totaling them\n",
    "\n",
    "\n",
    "508  $11071.46  (total)\n",
    "\n",
    "1235  $1,000,000  (range)\n",
    "\n",
    "\n",
    "Also, I ran into an error below so I had to insert the loop above that checks for a K at the end of the damage amount string because some incident reports write 5K instead of 5,000. I am therefore fixing those amounts "
   ]
  },
  {
   "cell_type": "code",
   "execution_count": 113,
   "metadata": {},
   "outputs": [],
   "source": [
    "damages_amounts[508] = ['$11071.46']\n",
    "damages_amounts[1235] = ['$1,000,000']\n",
    "damages_amounts[137] = ['$18.000']\n",
    "damages_amounts[257] = ['$15,000']\n",
    "damages_amounts[564] = ['$45,000']\n",
    "damages_amounts[1482] = ['$3,000']\n",
    "damages_amounts[1816] = ['$8500000', '$81660']"
   ]
  },
  {
   "cell_type": "markdown",
   "metadata": {},
   "source": [
    "I want to store all the damage amounts reported in the incident text in separate columns. In order to know how many columns we need, we need to find the list with the maximum entries. this is the maximum number of columns we need"
   ]
  },
  {
   "cell_type": "code",
   "execution_count": 114,
   "metadata": {},
   "outputs": [
    {
     "name": "stdout",
     "output_type": "stream",
     "text": [
      "5\n"
     ]
    }
   ],
   "source": [
    "\n",
    "def find_max_list(list):\n",
    "    list_len = [len(i) for i in list]\n",
    "    print(max(list_len))\n",
    "\n",
    "#print output#\n",
    "find_max_list(damages_amounts)"
   ]
  },
  {
   "cell_type": "code",
   "execution_count": 115,
   "metadata": {},
   "outputs": [],
   "source": [
    "columns = ['damages_1', 'damages_2', 'damages_3', 'damages_4', 'damages_5']\n",
    "damages_dff = pd.DataFrame(damages_amounts,columns=columns)"
   ]
  },
  {
   "cell_type": "code",
   "execution_count": 116,
   "metadata": {},
   "outputs": [
    {
     "data": {
      "text/html": [
       "<div>\n",
       "<style scoped>\n",
       "    .dataframe tbody tr th:only-of-type {\n",
       "        vertical-align: middle;\n",
       "    }\n",
       "\n",
       "    .dataframe tbody tr th {\n",
       "        vertical-align: top;\n",
       "    }\n",
       "\n",
       "    .dataframe thead th {\n",
       "        text-align: right;\n",
       "    }\n",
       "</style>\n",
       "<table border=\"1\" class=\"dataframe\">\n",
       "  <thead>\n",
       "    <tr style=\"text-align: right;\">\n",
       "      <th></th>\n",
       "      <th>damages_1</th>\n",
       "      <th>damages_2</th>\n",
       "      <th>damages_3</th>\n",
       "      <th>damages_4</th>\n",
       "      <th>damages_5</th>\n",
       "    </tr>\n",
       "  </thead>\n",
       "  <tbody>\n",
       "    <tr>\n",
       "      <th>0</th>\n",
       "      <td>0</td>\n",
       "      <td>None</td>\n",
       "      <td>None</td>\n",
       "      <td>None</td>\n",
       "      <td>None</td>\n",
       "    </tr>\n",
       "    <tr>\n",
       "      <th>1</th>\n",
       "      <td>0</td>\n",
       "      <td>None</td>\n",
       "      <td>None</td>\n",
       "      <td>None</td>\n",
       "      <td>None</td>\n",
       "    </tr>\n",
       "    <tr>\n",
       "      <th>2</th>\n",
       "      <td>$15325</td>\n",
       "      <td>None</td>\n",
       "      <td>None</td>\n",
       "      <td>None</td>\n",
       "      <td>None</td>\n",
       "    </tr>\n",
       "    <tr>\n",
       "      <th>3</th>\n",
       "      <td>$10793</td>\n",
       "      <td>None</td>\n",
       "      <td>None</td>\n",
       "      <td>None</td>\n",
       "      <td>None</td>\n",
       "    </tr>\n",
       "    <tr>\n",
       "      <th>4</th>\n",
       "      <td>0</td>\n",
       "      <td>None</td>\n",
       "      <td>None</td>\n",
       "      <td>None</td>\n",
       "      <td>None</td>\n",
       "    </tr>\n",
       "    <tr>\n",
       "      <th>5</th>\n",
       "      <td>$615.33</td>\n",
       "      <td>None</td>\n",
       "      <td>None</td>\n",
       "      <td>None</td>\n",
       "      <td>None</td>\n",
       "    </tr>\n",
       "    <tr>\n",
       "      <th>6</th>\n",
       "      <td>0</td>\n",
       "      <td>None</td>\n",
       "      <td>None</td>\n",
       "      <td>None</td>\n",
       "      <td>None</td>\n",
       "    </tr>\n",
       "    <tr>\n",
       "      <th>7</th>\n",
       "      <td>0</td>\n",
       "      <td>None</td>\n",
       "      <td>None</td>\n",
       "      <td>None</td>\n",
       "      <td>None</td>\n",
       "    </tr>\n",
       "    <tr>\n",
       "      <th>8</th>\n",
       "      <td>0</td>\n",
       "      <td>None</td>\n",
       "      <td>None</td>\n",
       "      <td>None</td>\n",
       "      <td>None</td>\n",
       "    </tr>\n",
       "    <tr>\n",
       "      <th>9</th>\n",
       "      <td>0</td>\n",
       "      <td>None</td>\n",
       "      <td>None</td>\n",
       "      <td>None</td>\n",
       "      <td>None</td>\n",
       "    </tr>\n",
       "  </tbody>\n",
       "</table>\n",
       "</div>"
      ],
      "text/plain": [
       "  damages_1 damages_2 damages_3 damages_4 damages_5\n",
       "0         0      None      None      None      None\n",
       "1         0      None      None      None      None\n",
       "2    $15325      None      None      None      None\n",
       "3    $10793      None      None      None      None\n",
       "4         0      None      None      None      None\n",
       "5   $615.33      None      None      None      None\n",
       "6         0      None      None      None      None\n",
       "7         0      None      None      None      None\n",
       "8         0      None      None      None      None\n",
       "9         0      None      None      None      None"
      ]
     },
     "execution_count": 116,
     "metadata": {},
     "output_type": "execute_result"
    }
   ],
   "source": [
    "damages_dff[:10]"
   ]
  },
  {
   "cell_type": "markdown",
   "metadata": {},
   "source": [
    "# Creating a total column\n",
    "I on purpose left the dollar sign in the pandas dataframe, to imitate another problem you might encounter with raw data and did not convert the numbers into float. imagine you get numbers in different formats e.g. 1000 vs 1000.00 vs 1,000\n",
    "\n",
    "I don't know how to deal with that problem, since you cannot convert 1,000 into a float. I guess it is another regular expression I need which deletes the $ sign and the commas from the numbers. Let's google it!\n",
    "\n",
    "This is what I found when googling\n",
    "\n",
    "https://stackoverflow.com/questions/32464280/converting-currency-with-to-numbers-in-python-pandas"
   ]
  },
  {
   "cell_type": "code",
   "execution_count": 117,
   "metadata": {},
   "outputs": [],
   "source": [
    "damages_dff[damages_dff.columns[0:]] = damages_dff[damages_dff.columns[0:]].replace('[\\$,]', '', regex=True).astype(float)"
   ]
  },
  {
   "cell_type": "code",
   "execution_count": null,
   "metadata": {},
   "outputs": [],
   "source": []
  },
  {
   "cell_type": "markdown",
   "metadata": {},
   "source": [
    "## Creating a total damages column\n",
    "\n",
    "I want to sum up the damages, if there were several amounts reported. Let's sum up all the damages in a row and store the total amount in a new column"
   ]
  },
  {
   "cell_type": "code",
   "execution_count": 118,
   "metadata": {},
   "outputs": [],
   "source": [
    "damages_dff['damages_total'] = damages_dff[list(damages_dff.columns)].sum(axis=1)"
   ]
  },
  {
   "cell_type": "code",
   "execution_count": 119,
   "metadata": {},
   "outputs": [
    {
     "data": {
      "text/html": [
       "<div>\n",
       "<style scoped>\n",
       "    .dataframe tbody tr th:only-of-type {\n",
       "        vertical-align: middle;\n",
       "    }\n",
       "\n",
       "    .dataframe tbody tr th {\n",
       "        vertical-align: top;\n",
       "    }\n",
       "\n",
       "    .dataframe thead th {\n",
       "        text-align: right;\n",
       "    }\n",
       "</style>\n",
       "<table border=\"1\" class=\"dataframe\">\n",
       "  <thead>\n",
       "    <tr style=\"text-align: right;\">\n",
       "      <th></th>\n",
       "      <th>damages_1</th>\n",
       "      <th>damages_2</th>\n",
       "      <th>damages_3</th>\n",
       "      <th>damages_4</th>\n",
       "      <th>damages_5</th>\n",
       "      <th>damages_total</th>\n",
       "    </tr>\n",
       "  </thead>\n",
       "  <tbody>\n",
       "    <tr>\n",
       "      <th>0</th>\n",
       "      <td>0.0</td>\n",
       "      <td>NaN</td>\n",
       "      <td>NaN</td>\n",
       "      <td>NaN</td>\n",
       "      <td>NaN</td>\n",
       "      <td>0.0</td>\n",
       "    </tr>\n",
       "    <tr>\n",
       "      <th>1</th>\n",
       "      <td>0.0</td>\n",
       "      <td>NaN</td>\n",
       "      <td>NaN</td>\n",
       "      <td>NaN</td>\n",
       "      <td>NaN</td>\n",
       "      <td>0.0</td>\n",
       "    </tr>\n",
       "    <tr>\n",
       "      <th>2</th>\n",
       "      <td>15325.0</td>\n",
       "      <td>NaN</td>\n",
       "      <td>NaN</td>\n",
       "      <td>NaN</td>\n",
       "      <td>NaN</td>\n",
       "      <td>15325.0</td>\n",
       "    </tr>\n",
       "    <tr>\n",
       "      <th>3</th>\n",
       "      <td>10793.0</td>\n",
       "      <td>NaN</td>\n",
       "      <td>NaN</td>\n",
       "      <td>NaN</td>\n",
       "      <td>NaN</td>\n",
       "      <td>10793.0</td>\n",
       "    </tr>\n",
       "    <tr>\n",
       "      <th>4</th>\n",
       "      <td>0.0</td>\n",
       "      <td>NaN</td>\n",
       "      <td>NaN</td>\n",
       "      <td>NaN</td>\n",
       "      <td>NaN</td>\n",
       "      <td>0.0</td>\n",
       "    </tr>\n",
       "    <tr>\n",
       "      <th>...</th>\n",
       "      <td>...</td>\n",
       "      <td>...</td>\n",
       "      <td>...</td>\n",
       "      <td>...</td>\n",
       "      <td>...</td>\n",
       "      <td>...</td>\n",
       "    </tr>\n",
       "    <tr>\n",
       "      <th>2396</th>\n",
       "      <td>0.0</td>\n",
       "      <td>NaN</td>\n",
       "      <td>NaN</td>\n",
       "      <td>NaN</td>\n",
       "      <td>NaN</td>\n",
       "      <td>0.0</td>\n",
       "    </tr>\n",
       "    <tr>\n",
       "      <th>2397</th>\n",
       "      <td>0.0</td>\n",
       "      <td>NaN</td>\n",
       "      <td>NaN</td>\n",
       "      <td>NaN</td>\n",
       "      <td>NaN</td>\n",
       "      <td>0.0</td>\n",
       "    </tr>\n",
       "    <tr>\n",
       "      <th>2398</th>\n",
       "      <td>0.0</td>\n",
       "      <td>NaN</td>\n",
       "      <td>NaN</td>\n",
       "      <td>NaN</td>\n",
       "      <td>NaN</td>\n",
       "      <td>0.0</td>\n",
       "    </tr>\n",
       "    <tr>\n",
       "      <th>2399</th>\n",
       "      <td>0.0</td>\n",
       "      <td>NaN</td>\n",
       "      <td>NaN</td>\n",
       "      <td>NaN</td>\n",
       "      <td>NaN</td>\n",
       "      <td>0.0</td>\n",
       "    </tr>\n",
       "    <tr>\n",
       "      <th>2400</th>\n",
       "      <td>0.0</td>\n",
       "      <td>NaN</td>\n",
       "      <td>NaN</td>\n",
       "      <td>NaN</td>\n",
       "      <td>NaN</td>\n",
       "      <td>0.0</td>\n",
       "    </tr>\n",
       "  </tbody>\n",
       "</table>\n",
       "<p>2401 rows × 6 columns</p>\n",
       "</div>"
      ],
      "text/plain": [
       "      damages_1  damages_2  damages_3  damages_4  damages_5  damages_total\n",
       "0           0.0        NaN        NaN        NaN        NaN            0.0\n",
       "1           0.0        NaN        NaN        NaN        NaN            0.0\n",
       "2       15325.0        NaN        NaN        NaN        NaN        15325.0\n",
       "3       10793.0        NaN        NaN        NaN        NaN        10793.0\n",
       "4           0.0        NaN        NaN        NaN        NaN            0.0\n",
       "...         ...        ...        ...        ...        ...            ...\n",
       "2396        0.0        NaN        NaN        NaN        NaN            0.0\n",
       "2397        0.0        NaN        NaN        NaN        NaN            0.0\n",
       "2398        0.0        NaN        NaN        NaN        NaN            0.0\n",
       "2399        0.0        NaN        NaN        NaN        NaN            0.0\n",
       "2400        0.0        NaN        NaN        NaN        NaN            0.0\n",
       "\n",
       "[2401 rows x 6 columns]"
      ]
     },
     "execution_count": 119,
     "metadata": {},
     "output_type": "execute_result"
    }
   ],
   "source": [
    "damages_dff"
   ]
  },
  {
   "cell_type": "markdown",
   "metadata": {},
   "source": [
    "## Inserting total into our original dataframe\n",
    "\n",
    "In order to join two dataframes in pandas, we need a common column. Our damages and original dataframe do not have a common column so we need to create one"
   ]
  },
  {
   "cell_type": "code",
   "execution_count": 120,
   "metadata": {},
   "outputs": [],
   "source": [
    "#we need a common column to merge two dataframes - so I am creating an index column\n",
    "damages_dff['i'] = damages_dff.reset_index().index\n",
    "raw_data_df['i'] = raw_data_df.reset_index().index\n",
    "\n",
    "damages_final = damages_dff[['damages_total', 'i']]\n",
    "\n",
    "\n",
    "\n",
    "#del final_df['PREP']"
   ]
  },
  {
   "cell_type": "code",
   "execution_count": 121,
   "metadata": {},
   "outputs": [],
   "source": [
    "final_df = pd.merge(raw_data_df, damages_final, on='i', how='outer')\n"
   ]
  },
  {
   "cell_type": "code",
   "execution_count": 122,
   "metadata": {},
   "outputs": [
    {
     "data": {
      "text/html": [
       "<div>\n",
       "<style scoped>\n",
       "    .dataframe tbody tr th:only-of-type {\n",
       "        vertical-align: middle;\n",
       "    }\n",
       "\n",
       "    .dataframe tbody tr th {\n",
       "        vertical-align: top;\n",
       "    }\n",
       "\n",
       "    .dataframe thead th {\n",
       "        text-align: right;\n",
       "    }\n",
       "</style>\n",
       "<table border=\"1\" class=\"dataframe\">\n",
       "  <thead>\n",
       "    <tr style=\"text-align: right;\">\n",
       "      <th></th>\n",
       "      <th>IYR</th>\n",
       "      <th>IMO</th>\n",
       "      <th>RAILROAD</th>\n",
       "      <th>STATE</th>\n",
       "      <th>STATION</th>\n",
       "      <th>COUNTY</th>\n",
       "      <th>NARR</th>\n",
       "      <th>PREP</th>\n",
       "      <th>STRUCK</th>\n",
       "      <th>DERAIL</th>\n",
       "      <th>OTHER</th>\n",
       "      <th>HAZMAT</th>\n",
       "      <th>DAMAGE</th>\n",
       "      <th>i</th>\n",
       "      <th>damages_total</th>\n",
       "    </tr>\n",
       "  </thead>\n",
       "  <tbody>\n",
       "    <tr>\n",
       "      <th>0</th>\n",
       "      <td>19</td>\n",
       "      <td>11</td>\n",
       "      <td>ATK</td>\n",
       "      <td>6</td>\n",
       "      <td>CASTROVILLE</td>\n",
       "      <td>MONTEREY</td>\n",
       "      <td>CAMERA-EQUIPPED TRAIN 14 STRUCK AN OCCUPIED SA...</td>\n",
       "      <td>camera equip train struck occupi sanit truck m...</td>\n",
       "      <td>True</td>\n",
       "      <td>False</td>\n",
       "      <td>False</td>\n",
       "      <td>False</td>\n",
       "      <td>False</td>\n",
       "      <td>0</td>\n",
       "      <td>0.0</td>\n",
       "    </tr>\n",
       "    <tr>\n",
       "      <th>1</th>\n",
       "      <td>19</td>\n",
       "      <td>10</td>\n",
       "      <td>MNCW</td>\n",
       "      <td>9</td>\n",
       "      <td>NORWALK</td>\n",
       "      <td>FAIRFIELD</td>\n",
       "      <td>PRODUCTION GANG, TRAVELING NORTH WITH 22 PIECE...</td>\n",
       "      <td>product gang travel north piec equip seper pie...</td>\n",
       "      <td>False</td>\n",
       "      <td>False</td>\n",
       "      <td>True</td>\n",
       "      <td>False</td>\n",
       "      <td>False</td>\n",
       "      <td>1</td>\n",
       "      <td>0.0</td>\n",
       "    </tr>\n",
       "    <tr>\n",
       "      <th>2</th>\n",
       "      <td>19</td>\n",
       "      <td>4</td>\n",
       "      <td>FEC</td>\n",
       "      <td>12</td>\n",
       "      <td>POMPANO BEACH</td>\n",
       "      <td>BROWARD</td>\n",
       "      <td>BLF 604 WAS TRAVELING SOUTHBOUND ON EAST MAIN ...</td>\n",
       "      <td>blf travel southbound east main approxim mph n...</td>\n",
       "      <td>True</td>\n",
       "      <td>False</td>\n",
       "      <td>False</td>\n",
       "      <td>False</td>\n",
       "      <td>False</td>\n",
       "      <td>2</td>\n",
       "      <td>15325.0</td>\n",
       "    </tr>\n",
       "    <tr>\n",
       "      <th>3</th>\n",
       "      <td>19</td>\n",
       "      <td>4</td>\n",
       "      <td>FEC</td>\n",
       "      <td>12</td>\n",
       "      <td>POMPANO BEACH</td>\n",
       "      <td>BROWARD</td>\n",
       "      <td>BLF 606 WAS TRAVELING SOUTHBOUND ON EAST MAIN ...</td>\n",
       "      <td>blf travel southbound east main notic vehicl f...</td>\n",
       "      <td>True</td>\n",
       "      <td>False</td>\n",
       "      <td>False</td>\n",
       "      <td>False</td>\n",
       "      <td>False</td>\n",
       "      <td>3</td>\n",
       "      <td>10793.0</td>\n",
       "    </tr>\n",
       "    <tr>\n",
       "      <th>4</th>\n",
       "      <td>19</td>\n",
       "      <td>4</td>\n",
       "      <td>CSX</td>\n",
       "      <td>12</td>\n",
       "      <td>SEVILLE</td>\n",
       "      <td>VOLUSIA</td>\n",
       "      <td>AMTRAK P09811 STRUCK SEMI AT PRIVATE CROSSING.</td>\n",
       "      <td>amtrak struck semi privat cross</td>\n",
       "      <td>True</td>\n",
       "      <td>False</td>\n",
       "      <td>False</td>\n",
       "      <td>False</td>\n",
       "      <td>False</td>\n",
       "      <td>4</td>\n",
       "      <td>0.0</td>\n",
       "    </tr>\n",
       "  </tbody>\n",
       "</table>\n",
       "</div>"
      ],
      "text/plain": [
       "   IYR  IMO RAILROAD  STATE        STATION     COUNTY  \\\n",
       "0   19   11      ATK      6    CASTROVILLE   MONTEREY   \n",
       "1   19   10     MNCW      9        NORWALK  FAIRFIELD   \n",
       "2   19    4      FEC     12  POMPANO BEACH    BROWARD   \n",
       "3   19    4      FEC     12  POMPANO BEACH    BROWARD   \n",
       "4   19    4      CSX     12        SEVILLE    VOLUSIA   \n",
       "\n",
       "                                                NARR  \\\n",
       "0  CAMERA-EQUIPPED TRAIN 14 STRUCK AN OCCUPIED SA...   \n",
       "1  PRODUCTION GANG, TRAVELING NORTH WITH 22 PIECE...   \n",
       "2  BLF 604 WAS TRAVELING SOUTHBOUND ON EAST MAIN ...   \n",
       "3  BLF 606 WAS TRAVELING SOUTHBOUND ON EAST MAIN ...   \n",
       "4     AMTRAK P09811 STRUCK SEMI AT PRIVATE CROSSING.   \n",
       "\n",
       "                                                PREP  STRUCK  DERAIL  OTHER  \\\n",
       "0  camera equip train struck occupi sanit truck m...    True   False  False   \n",
       "1  product gang travel north piec equip seper pie...   False   False   True   \n",
       "2  blf travel southbound east main approxim mph n...    True   False  False   \n",
       "3  blf travel southbound east main notic vehicl f...    True   False  False   \n",
       "4                    amtrak struck semi privat cross    True   False  False   \n",
       "\n",
       "   HAZMAT  DAMAGE  i  damages_total  \n",
       "0   False   False  0            0.0  \n",
       "1   False   False  1            0.0  \n",
       "2   False   False  2        15325.0  \n",
       "3   False   False  3        10793.0  \n",
       "4   False   False  4            0.0  "
      ]
     },
     "execution_count": 122,
     "metadata": {},
     "output_type": "execute_result"
    }
   ],
   "source": [
    "final_df.head()"
   ]
  },
  {
   "cell_type": "code",
   "execution_count": 123,
   "metadata": {},
   "outputs": [],
   "source": [
    "del final_df['i']\n",
    "\n"
   ]
  },
  {
   "cell_type": "code",
   "execution_count": 125,
   "metadata": {},
   "outputs": [],
   "source": [
    "del final_df['PREP']"
   ]
  },
  {
   "cell_type": "code",
   "execution_count": 126,
   "metadata": {},
   "outputs": [
    {
     "data": {
      "text/html": [
       "<div>\n",
       "<style scoped>\n",
       "    .dataframe tbody tr th:only-of-type {\n",
       "        vertical-align: middle;\n",
       "    }\n",
       "\n",
       "    .dataframe tbody tr th {\n",
       "        vertical-align: top;\n",
       "    }\n",
       "\n",
       "    .dataframe thead th {\n",
       "        text-align: right;\n",
       "    }\n",
       "</style>\n",
       "<table border=\"1\" class=\"dataframe\">\n",
       "  <thead>\n",
       "    <tr style=\"text-align: right;\">\n",
       "      <th></th>\n",
       "      <th>IYR</th>\n",
       "      <th>IMO</th>\n",
       "      <th>RAILROAD</th>\n",
       "      <th>STATE</th>\n",
       "      <th>STATION</th>\n",
       "      <th>COUNTY</th>\n",
       "      <th>NARR</th>\n",
       "      <th>STRUCK</th>\n",
       "      <th>DERAIL</th>\n",
       "      <th>OTHER</th>\n",
       "      <th>HAZMAT</th>\n",
       "      <th>DAMAGE</th>\n",
       "      <th>damages_total</th>\n",
       "    </tr>\n",
       "  </thead>\n",
       "  <tbody>\n",
       "    <tr>\n",
       "      <th>0</th>\n",
       "      <td>19</td>\n",
       "      <td>11</td>\n",
       "      <td>ATK</td>\n",
       "      <td>6</td>\n",
       "      <td>CASTROVILLE</td>\n",
       "      <td>MONTEREY</td>\n",
       "      <td>CAMERA-EQUIPPED TRAIN 14 STRUCK AN OCCUPIED SA...</td>\n",
       "      <td>True</td>\n",
       "      <td>False</td>\n",
       "      <td>False</td>\n",
       "      <td>False</td>\n",
       "      <td>False</td>\n",
       "      <td>0.0</td>\n",
       "    </tr>\n",
       "    <tr>\n",
       "      <th>1</th>\n",
       "      <td>19</td>\n",
       "      <td>10</td>\n",
       "      <td>MNCW</td>\n",
       "      <td>9</td>\n",
       "      <td>NORWALK</td>\n",
       "      <td>FAIRFIELD</td>\n",
       "      <td>PRODUCTION GANG, TRAVELING NORTH WITH 22 PIECE...</td>\n",
       "      <td>False</td>\n",
       "      <td>False</td>\n",
       "      <td>True</td>\n",
       "      <td>False</td>\n",
       "      <td>False</td>\n",
       "      <td>0.0</td>\n",
       "    </tr>\n",
       "    <tr>\n",
       "      <th>2</th>\n",
       "      <td>19</td>\n",
       "      <td>4</td>\n",
       "      <td>FEC</td>\n",
       "      <td>12</td>\n",
       "      <td>POMPANO BEACH</td>\n",
       "      <td>BROWARD</td>\n",
       "      <td>BLF 604 WAS TRAVELING SOUTHBOUND ON EAST MAIN ...</td>\n",
       "      <td>True</td>\n",
       "      <td>False</td>\n",
       "      <td>False</td>\n",
       "      <td>False</td>\n",
       "      <td>False</td>\n",
       "      <td>15325.0</td>\n",
       "    </tr>\n",
       "    <tr>\n",
       "      <th>3</th>\n",
       "      <td>19</td>\n",
       "      <td>4</td>\n",
       "      <td>FEC</td>\n",
       "      <td>12</td>\n",
       "      <td>POMPANO BEACH</td>\n",
       "      <td>BROWARD</td>\n",
       "      <td>BLF 606 WAS TRAVELING SOUTHBOUND ON EAST MAIN ...</td>\n",
       "      <td>True</td>\n",
       "      <td>False</td>\n",
       "      <td>False</td>\n",
       "      <td>False</td>\n",
       "      <td>False</td>\n",
       "      <td>10793.0</td>\n",
       "    </tr>\n",
       "    <tr>\n",
       "      <th>4</th>\n",
       "      <td>19</td>\n",
       "      <td>4</td>\n",
       "      <td>CSX</td>\n",
       "      <td>12</td>\n",
       "      <td>SEVILLE</td>\n",
       "      <td>VOLUSIA</td>\n",
       "      <td>AMTRAK P09811 STRUCK SEMI AT PRIVATE CROSSING.</td>\n",
       "      <td>True</td>\n",
       "      <td>False</td>\n",
       "      <td>False</td>\n",
       "      <td>False</td>\n",
       "      <td>False</td>\n",
       "      <td>0.0</td>\n",
       "    </tr>\n",
       "  </tbody>\n",
       "</table>\n",
       "</div>"
      ],
      "text/plain": [
       "   IYR  IMO RAILROAD  STATE        STATION     COUNTY  \\\n",
       "0   19   11      ATK      6    CASTROVILLE   MONTEREY   \n",
       "1   19   10     MNCW      9        NORWALK  FAIRFIELD   \n",
       "2   19    4      FEC     12  POMPANO BEACH    BROWARD   \n",
       "3   19    4      FEC     12  POMPANO BEACH    BROWARD   \n",
       "4   19    4      CSX     12        SEVILLE    VOLUSIA   \n",
       "\n",
       "                                                NARR  STRUCK  DERAIL  OTHER  \\\n",
       "0  CAMERA-EQUIPPED TRAIN 14 STRUCK AN OCCUPIED SA...    True   False  False   \n",
       "1  PRODUCTION GANG, TRAVELING NORTH WITH 22 PIECE...   False   False   True   \n",
       "2  BLF 604 WAS TRAVELING SOUTHBOUND ON EAST MAIN ...    True   False  False   \n",
       "3  BLF 606 WAS TRAVELING SOUTHBOUND ON EAST MAIN ...    True   False  False   \n",
       "4     AMTRAK P09811 STRUCK SEMI AT PRIVATE CROSSING.    True   False  False   \n",
       "\n",
       "   HAZMAT  DAMAGE  damages_total  \n",
       "0   False   False            0.0  \n",
       "1   False   False            0.0  \n",
       "2   False   False        15325.0  \n",
       "3   False   False        10793.0  \n",
       "4   False   False            0.0  "
      ]
     },
     "execution_count": 126,
     "metadata": {},
     "output_type": "execute_result"
    }
   ],
   "source": [
    "final_df.head()"
   ]
  },
  {
   "cell_type": "markdown",
   "metadata": {},
   "source": [
    "Oh well, the \"damage\" column is redundant since the $ amount indicates whether there was any damage or not - even if we could not find the \"damage\" keyword in the incident text. But it was just for the sake of practicing anyway, so I will leave it now as it is. It is not the most exciting dataset to play around"
   ]
  },
  {
   "cell_type": "code",
   "execution_count": 127,
   "metadata": {},
   "outputs": [],
   "source": [
    "final_df.to_csv('railroad_incidents_analysis.csv')"
   ]
  },
  {
   "cell_type": "code",
   "execution_count": null,
   "metadata": {},
   "outputs": [],
   "source": []
  }
 ],
 "metadata": {
  "kernelspec": {
   "display_name": "Python 3",
   "language": "python",
   "name": "python3"
  },
  "language_info": {
   "codemirror_mode": {
    "name": "ipython",
    "version": 3
   },
   "file_extension": ".py",
   "mimetype": "text/x-python",
   "name": "python",
   "nbconvert_exporter": "python",
   "pygments_lexer": "ipython3",
   "version": "3.7.5"
  }
 },
 "nbformat": 4,
 "nbformat_minor": 4
}
